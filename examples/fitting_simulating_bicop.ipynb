{
 "cells": [
  {
   "cell_type": "markdown",
   "metadata": {},
   "source": [
    "## Packages"
   ]
  },
  {
   "cell_type": "code",
   "execution_count": 7,
   "metadata": {
    "collapsed": false
   },
   "outputs": [],
   "source": [
    "import pyvinecopulib as pvcl\n",
    "\n",
    "import numpy as np\n",
    "import pandas as pd\n",
    "import scipy.interpolate as interpolate\n",
    "import scipy.optimize as optimize\n",
    "\n",
    "import seaborn as sns\n",
    "import matplotlib.pyplot as plt\n",
    "%matplotlib inline"
   ]
  },
  {
   "cell_type": "markdown",
   "metadata": {},
   "source": [
    "## Data"
   ]
  },
  {
   "cell_type": "code",
   "execution_count": 119,
   "metadata": {
    "collapsed": false
   },
   "outputs": [
    {
     "data": {
      "text/html": [
       "<div>\n",
       "<style>\n",
       "    .dataframe thead tr:only-child th {\n",
       "        text-align: right;\n",
       "    }\n",
       "\n",
       "    .dataframe thead th {\n",
       "        text-align: left;\n",
       "    }\n",
       "\n",
       "    .dataframe tbody tr th {\n",
       "        vertical-align: top;\n",
       "    }\n",
       "</style>\n",
       "<table border=\"1\" class=\"dataframe\">\n",
       "  <thead>\n",
       "    <tr style=\"text-align: right;\">\n",
       "      <th></th>\n",
       "      <th>0</th>\n",
       "      <th>1</th>\n",
       "      <th>2</th>\n",
       "      <th>3</th>\n",
       "      <th>4</th>\n",
       "      <th>5</th>\n",
       "      <th>6</th>\n",
       "      <th>7</th>\n",
       "      <th>8</th>\n",
       "      <th>9</th>\n",
       "      <th>...</th>\n",
       "      <th>990</th>\n",
       "      <th>991</th>\n",
       "      <th>992</th>\n",
       "      <th>993</th>\n",
       "      <th>994</th>\n",
       "      <th>995</th>\n",
       "      <th>996</th>\n",
       "      <th>997</th>\n",
       "      <th>998</th>\n",
       "      <th>999</th>\n",
       "    </tr>\n",
       "  </thead>\n",
       "  <tbody>\n",
       "    <tr>\n",
       "      <th>A</th>\n",
       "      <td>0.338039</td>\n",
       "      <td>1.193240</td>\n",
       "      <td>-1.578128</td>\n",
       "      <td>2.851718</td>\n",
       "      <td>1.248057</td>\n",
       "      <td>0.674923</td>\n",
       "      <td>-0.656263</td>\n",
       "      <td>1.209704</td>\n",
       "      <td>-1.359567</td>\n",
       "      <td>-1.767539</td>\n",
       "      <td>...</td>\n",
       "      <td>-0.596563</td>\n",
       "      <td>-0.586999</td>\n",
       "      <td>-1.487285</td>\n",
       "      <td>3.495799</td>\n",
       "      <td>-0.683164</td>\n",
       "      <td>-0.962539</td>\n",
       "      <td>1.990474</td>\n",
       "      <td>1.637848</td>\n",
       "      <td>-0.899314</td>\n",
       "      <td>-2.341374</td>\n",
       "    </tr>\n",
       "    <tr>\n",
       "      <th>B</th>\n",
       "      <td>-0.447766</td>\n",
       "      <td>0.908379</td>\n",
       "      <td>-1.367419</td>\n",
       "      <td>1.093273</td>\n",
       "      <td>0.944035</td>\n",
       "      <td>0.129405</td>\n",
       "      <td>0.237641</td>\n",
       "      <td>0.411304</td>\n",
       "      <td>0.157212</td>\n",
       "      <td>-0.682143</td>\n",
       "      <td>...</td>\n",
       "      <td>-0.169569</td>\n",
       "      <td>0.117846</td>\n",
       "      <td>-0.404463</td>\n",
       "      <td>1.697272</td>\n",
       "      <td>-0.508760</td>\n",
       "      <td>-0.763308</td>\n",
       "      <td>0.903855</td>\n",
       "      <td>-0.119764</td>\n",
       "      <td>0.068626</td>\n",
       "      <td>-1.962151</td>\n",
       "    </tr>\n",
       "  </tbody>\n",
       "</table>\n",
       "<p>2 rows × 1000 columns</p>\n",
       "</div>"
      ],
      "text/plain": [
       "        0         1         2         3         4         5         6    \\\n",
       "A  0.338039  1.193240 -1.578128  2.851718  1.248057  0.674923 -0.656263   \n",
       "B -0.447766  0.908379 -1.367419  1.093273  0.944035  0.129405  0.237641   \n",
       "\n",
       "        7         8         9      ...          990       991       992  \\\n",
       "A  1.209704 -1.359567 -1.767539    ...    -0.596563 -0.586999 -1.487285   \n",
       "B  0.411304  0.157212 -0.682143    ...    -0.169569  0.117846 -0.404463   \n",
       "\n",
       "        993       994       995       996       997       998       999  \n",
       "A  3.495799 -0.683164 -0.962539  1.990474  1.637848 -0.899314 -2.341374  \n",
       "B  1.697272 -0.508760 -0.763308  0.903855 -0.119764  0.068626 -1.962151  \n",
       "\n",
       "[2 rows x 1000 columns]"
      ]
     },
     "execution_count": 119,
     "metadata": {},
     "output_type": "execute_result"
    }
   ],
   "source": [
    "# generating a multivariate normal distribution\n",
    "mean = [0., 0.]\n",
    "matrixSize = 2 \n",
    "A = np.random.rand(matrixSize, matrixSize)\n",
    "cov = np.dot(A, A.transpose()) # symmetric positive-semidefinite matrix\n",
    "df = pd.DataFrame(np.random.multivariate_normal(mean, cov, 1000).T, index=list('AB'))\n",
    "df"
   ]
  },
  {
   "cell_type": "code",
   "execution_count": 120,
   "metadata": {
    "collapsed": false
   },
   "outputs": [
    {
     "name": "stdout",
     "output_type": "stream",
     "text": [
      "0.798059608631\n"
     ]
    }
   ],
   "source": [
    "# calculate correlation coefficient for data\n",
    "print(cov[0,1] / np.sqrt(cov[0,0]*cov[1,1]))"
   ]
  },
  {
   "cell_type": "markdown",
   "metadata": {},
   "source": [
    "## Data Setup"
   ]
  },
  {
   "cell_type": "code",
   "execution_count": 121,
   "metadata": {
    "collapsed": false
   },
   "outputs": [
    {
     "data": {
      "image/png": "[encoded data removed]",
      "text/plain": [
       "<matplotlib.figure.Figure at 0x7fd235576da0>"
      ]
     },
     "metadata": {},
     "output_type": "display_data"
    },
    {
     "data": {
      "image/png": "[encoded data removed]",
      "text/plain": [
       "<matplotlib.figure.Figure at 0x7fd23538ab00>"
      ]
     },
     "metadata": {},
     "output_type": "display_data"
    },
    {
     "data": {
      "image/png": "[encoded data removed]",
      "text/plain": [
       "<matplotlib.figure.Figure at 0x7fd235664358>"
      ]
     },
     "metadata": {},
     "output_type": "display_data"
    }
   ],
   "source": [
    "def empirical_cdf(data):\n",
    "    return data.dropna().rank(axis=1) / (len(data.columns) + 1)\n",
    "\n",
    "# empirical cdf\n",
    "emp = empirical_cdf(df)\n",
    "\n",
    "# empirical cdf plot \n",
    "cdf = interpolate.interp1d(df.iloc[0,:], emp.iloc[0,:], fill_value=\"extrapolate\")\n",
    "x = np.arange(-5, 5, 0.001)\n",
    "y = cdf(x)\n",
    "y[y<0]=0; y[y>1]=1\n",
    "f = plt.figure(1)\n",
    "plt.title(\"empirical cdf plot\")\n",
    "plt.plot(x, y)\n",
    "\n",
    "# inverse cdf\n",
    "def inverse_cdf(cdf, y):\n",
    "    def func(x):\n",
    "        return cdf(x) - y\n",
    "    return optimize.bisect(func, -15, 15)\n",
    "\n",
    "v_inverse_cdf = np.vectorize(inverse_cdf)\n",
    "\n",
    "# inverse empirical cdf plot\n",
    "x = np.arange(0., 1., 0.001)\n",
    "y = v_inverse_cdf(cdf, x)\n",
    "g = plt.figure(2)\n",
    "plt.title(\"inverse empirical cdf plot\")\n",
    "plt.plot(x, y)\n",
    "\n",
    "# empirical cdf histogram\n",
    "h = plt.figure(3)\n",
    "plt.title(\"histogram of probability integral transform\")\n",
    "emp.iloc[0,:].hist(bins=10)\n",
    "\n",
    "plt.show()"
   ]
  },
  {
   "cell_type": "markdown",
   "metadata": {},
   "source": [
    "## Fitting a bicopula"
   ]
  },
  {
   "cell_type": "code",
   "execution_count": 122,
   "metadata": {
    "collapsed": false
   },
   "outputs": [],
   "source": [
    "# fit general vine copula\n",
    "fitted = pvcl.bicop(emp.values)"
   ]
  },
  {
   "cell_type": "code",
   "execution_count": 115,
   "metadata": {
    "collapsed": false
   },
   "outputs": [],
   "source": [
    "# fit vine copula with controls\n",
    "fitted = pvcl.bicop()\n",
    "\n",
    "fit_controls = pvcl.bicop_fit_controls(pvcl.bicop_families.rotationless)\n",
    "fit_controls.selection_criterion = \"aic\"\n",
    "fit_controls.parametric_method = \"itau\"\n",
    "\n",
    "fitted.select(emp.values, fit_controls)"
   ]
  },
  {
   "cell_type": "code",
   "execution_count": 123,
   "metadata": {
    "collapsed": false
   },
   "outputs": [
    {
     "data": {
      "text/plain": [
       "pyvinecopulib.bicop_family.gaussian"
      ]
     },
     "execution_count": 123,
     "metadata": {},
     "output_type": "execute_result"
    }
   ],
   "source": [
    "fitted.family"
   ]
  },
  {
   "cell_type": "code",
   "execution_count": 124,
   "metadata": {
    "collapsed": false
   },
   "outputs": [
    {
     "name": "stdout",
     "output_type": "stream",
     "text": [
      "Pair copula family:\n",
      "gaussian\n",
      "\n",
      "Parameters:\n",
      "[[ 0.80030693]]\n",
      "\n",
      "Rotation:\n",
      "0\n"
     ]
    }
   ],
   "source": [
    "# access vine copula attributes\n",
    "print(\"Pair copula family:\")\n",
    "print(fitted.family)\n",
    "print(\"\\nParameters:\") # verifying fitted correlation coefficient\n",
    "print(fitted.parameters)\n",
    "print(\"\\nRotation:\")\n",
    "print(fitted.rotation)"
   ]
  },
  {
   "cell_type": "markdown",
   "metadata": {},
   "source": [
    "## Simulating from a bicopula"
   ]
  },
  {
   "cell_type": "code",
   "execution_count": 140,
   "metadata": {
    "collapsed": false
   },
   "outputs": [
    {
     "data": {
      "text/html": [
       "<div>\n",
       "<style>\n",
       "    .dataframe thead tr:only-child th {\n",
       "        text-align: right;\n",
       "    }\n",
       "\n",
       "    .dataframe thead th {\n",
       "        text-align: left;\n",
       "    }\n",
       "\n",
       "    .dataframe tbody tr th {\n",
       "        vertical-align: top;\n",
       "    }\n",
       "</style>\n",
       "<table border=\"1\" class=\"dataframe\">\n",
       "  <thead>\n",
       "    <tr style=\"text-align: right;\">\n",
       "      <th></th>\n",
       "      <th>0</th>\n",
       "      <th>1</th>\n",
       "      <th>2</th>\n",
       "      <th>3</th>\n",
       "      <th>4</th>\n",
       "      <th>5</th>\n",
       "      <th>6</th>\n",
       "      <th>7</th>\n",
       "      <th>8</th>\n",
       "      <th>9</th>\n",
       "      <th>...</th>\n",
       "      <th>990</th>\n",
       "      <th>991</th>\n",
       "      <th>992</th>\n",
       "      <th>993</th>\n",
       "      <th>994</th>\n",
       "      <th>995</th>\n",
       "      <th>996</th>\n",
       "      <th>997</th>\n",
       "      <th>998</th>\n",
       "      <th>999</th>\n",
       "    </tr>\n",
       "  </thead>\n",
       "  <tbody>\n",
       "    <tr>\n",
       "      <th>A</th>\n",
       "      <td>0.381115</td>\n",
       "      <td>0.647274</td>\n",
       "      <td>0.455348</td>\n",
       "      <td>0.360114</td>\n",
       "      <td>0.544504</td>\n",
       "      <td>0.963315</td>\n",
       "      <td>0.032532</td>\n",
       "      <td>0.914593</td>\n",
       "      <td>0.662766</td>\n",
       "      <td>0.006929</td>\n",
       "      <td>...</td>\n",
       "      <td>0.465142</td>\n",
       "      <td>0.319290</td>\n",
       "      <td>0.613324</td>\n",
       "      <td>0.146498</td>\n",
       "      <td>0.786665</td>\n",
       "      <td>0.022938</td>\n",
       "      <td>0.08964</td>\n",
       "      <td>0.568035</td>\n",
       "      <td>0.366722</td>\n",
       "      <td>0.834363</td>\n",
       "    </tr>\n",
       "    <tr>\n",
       "      <th>B</th>\n",
       "      <td>0.845529</td>\n",
       "      <td>0.966768</td>\n",
       "      <td>0.184381</td>\n",
       "      <td>0.302332</td>\n",
       "      <td>0.311548</td>\n",
       "      <td>0.824520</td>\n",
       "      <td>0.207954</td>\n",
       "      <td>0.882998</td>\n",
       "      <td>0.869375</td>\n",
       "      <td>0.018721</td>\n",
       "      <td>...</td>\n",
       "      <td>0.764220</td>\n",
       "      <td>0.572471</td>\n",
       "      <td>0.508680</td>\n",
       "      <td>0.190046</td>\n",
       "      <td>0.603778</td>\n",
       "      <td>0.159437</td>\n",
       "      <td>0.09344</td>\n",
       "      <td>0.151564</td>\n",
       "      <td>0.521572</td>\n",
       "      <td>0.564564</td>\n",
       "    </tr>\n",
       "  </tbody>\n",
       "</table>\n",
       "<p>2 rows × 1000 columns</p>\n",
       "</div>"
      ],
      "text/plain": [
       "        0         1         2         3         4         5         6    \\\n",
       "A  0.381115  0.647274  0.455348  0.360114  0.544504  0.963315  0.032532   \n",
       "B  0.845529  0.966768  0.184381  0.302332  0.311548  0.824520  0.207954   \n",
       "\n",
       "        7         8         9      ...          990       991       992  \\\n",
       "A  0.914593  0.662766  0.006929    ...     0.465142  0.319290  0.613324   \n",
       "B  0.882998  0.869375  0.018721    ...     0.764220  0.572471  0.508680   \n",
       "\n",
       "        993       994       995      996       997       998       999  \n",
       "A  0.146498  0.786665  0.022938  0.08964  0.568035  0.366722  0.834363  \n",
       "B  0.190046  0.603778  0.159437  0.09344  0.151564  0.521572  0.564564  \n",
       "\n",
       "[2 rows x 1000 columns]"
      ]
     },
     "execution_count": 140,
     "metadata": {},
     "output_type": "execute_result"
    }
   ],
   "source": [
    "num_draws = 1000\n",
    "sim_unif = pd.DataFrame(fitted.simulate(num_draws), index=df.index.values)\n",
    "sim_unif"
   ]
  },
  {
   "cell_type": "code",
   "execution_count": 141,
   "metadata": {
    "collapsed": false
   },
   "outputs": [
    {
     "data": {
      "text/html": [
       "<div>\n",
       "<style>\n",
       "    .dataframe thead tr:only-child th {\n",
       "        text-align: right;\n",
       "    }\n",
       "\n",
       "    .dataframe thead th {\n",
       "        text-align: left;\n",
       "    }\n",
       "\n",
       "    .dataframe tbody tr th {\n",
       "        vertical-align: top;\n",
       "    }\n",
       "</style>\n",
       "<table border=\"1\" class=\"dataframe\">\n",
       "  <thead>\n",
       "    <tr style=\"text-align: right;\">\n",
       "      <th></th>\n",
       "      <th>0</th>\n",
       "      <th>1</th>\n",
       "      <th>2</th>\n",
       "      <th>3</th>\n",
       "      <th>4</th>\n",
       "      <th>5</th>\n",
       "      <th>6</th>\n",
       "      <th>7</th>\n",
       "      <th>8</th>\n",
       "      <th>9</th>\n",
       "      <th>...</th>\n",
       "      <th>990</th>\n",
       "      <th>991</th>\n",
       "      <th>992</th>\n",
       "      <th>993</th>\n",
       "      <th>994</th>\n",
       "      <th>995</th>\n",
       "      <th>996</th>\n",
       "      <th>997</th>\n",
       "      <th>998</th>\n",
       "      <th>999</th>\n",
       "    </tr>\n",
       "  </thead>\n",
       "  <tbody>\n",
       "    <tr>\n",
       "      <th>A</th>\n",
       "      <td>-0.477405</td>\n",
       "      <td>0.410210</td>\n",
       "      <td>-0.170441</td>\n",
       "      <td>-0.552431</td>\n",
       "      <td>0.102647</td>\n",
       "      <td>2.437316</td>\n",
       "      <td>-2.537682</td>\n",
       "      <td>1.848519</td>\n",
       "      <td>0.479955</td>\n",
       "      <td>-3.098758</td>\n",
       "      <td>...</td>\n",
       "      <td>-0.150179</td>\n",
       "      <td>-0.706268</td>\n",
       "      <td>0.275327</td>\n",
       "      <td>-1.545692</td>\n",
       "      <td>1.041590</td>\n",
       "      <td>-2.656821</td>\n",
       "      <td>-1.832348</td>\n",
       "      <td>0.159716</td>\n",
       "      <td>-0.530348</td>\n",
       "      <td>1.307460</td>\n",
       "    </tr>\n",
       "    <tr>\n",
       "      <th>B</th>\n",
       "      <td>0.779899</td>\n",
       "      <td>1.473908</td>\n",
       "      <td>-0.783822</td>\n",
       "      <td>-0.467397</td>\n",
       "      <td>-0.449816</td>\n",
       "      <td>0.727084</td>\n",
       "      <td>-0.706848</td>\n",
       "      <td>0.939448</td>\n",
       "      <td>0.880485</td>\n",
       "      <td>-1.640012</td>\n",
       "      <td>...</td>\n",
       "      <td>0.536791</td>\n",
       "      <td>0.128547</td>\n",
       "      <td>-0.007010</td>\n",
       "      <td>-0.763760</td>\n",
       "      <td>0.183446</td>\n",
       "      <td>-0.849792</td>\n",
       "      <td>-1.158118</td>\n",
       "      <td>-0.888991</td>\n",
       "      <td>0.002152</td>\n",
       "      <td>0.112029</td>\n",
       "    </tr>\n",
       "  </tbody>\n",
       "</table>\n",
       "<p>2 rows × 1000 columns</p>\n",
       "</div>"
      ],
      "text/plain": [
       "        0         1         2         3         4         5         6    \\\n",
       "A -0.477405  0.410210 -0.170441 -0.552431  0.102647  2.437316 -2.537682   \n",
       "B  0.779899  1.473908 -0.783822 -0.467397 -0.449816  0.727084 -0.706848   \n",
       "\n",
       "        7         8         9      ...          990       991       992  \\\n",
       "A  1.848519  0.479955 -3.098758    ...    -0.150179 -0.706268  0.275327   \n",
       "B  0.939448  0.880485 -1.640012    ...     0.536791  0.128547 -0.007010   \n",
       "\n",
       "        993       994       995       996       997       998       999  \n",
       "A -1.545692  1.041590 -2.656821 -1.832348  0.159716 -0.530348  1.307460  \n",
       "B -0.763760  0.183446 -0.849792 -1.158118 -0.888991  0.002152  0.112029  \n",
       "\n",
       "[2 rows x 1000 columns]"
      ]
     },
     "execution_count": 141,
     "metadata": {},
     "output_type": "execute_result"
    }
   ],
   "source": [
    "# flip uniform marginals into actuals\n",
    "sim_df = sim_unif.copy()\n",
    "\n",
    "for i in range(len(df.index)):\n",
    "    cdf = interpolate.interp1d(df.iloc[i,:], emp.iloc[i,:], fill_value=\"extrapolate\")\n",
    "    sim_df_slice = v_inverse_cdf(cdf, sim_unif.iloc[i,:])\n",
    "    sim_df.iloc[i,:] = sim_df_slice\n",
    "\n",
    "sim_df"
   ]
  },
  {
   "cell_type": "code",
   "execution_count": 142,
   "metadata": {
    "collapsed": false
   },
   "outputs": [
    {
     "name": "stdout",
     "output_type": "stream",
     "text": [
      "[[ 1.          0.80188333]\n",
      " [ 0.80188333  1.        ]]\n"
     ]
    }
   ],
   "source": [
    "# verify correlation coefficient for simulated data\n",
    "print(np.corrcoef(sim_df.iloc[0],sim_df.iloc[1]))"
   ]
  },
  {
   "cell_type": "markdown",
   "metadata": {},
   "source": [
    "## Plotting calibration and simulation data"
   ]
  },
  {
   "cell_type": "code",
   "execution_count": 143,
   "metadata": {
    "collapsed": false
   },
   "outputs": [
    {
     "data": {
      "image/png": "[encoded data removed]",
      "text/plain": [
       "<matplotlib.figure.Figure at 0x7fd2352eca58>"
      ]
     },
     "metadata": {},
     "output_type": "display_data"
    },
    {
     "data": {
      "image/png": "[encoded data removed]",
      "text/plain": [
       "<matplotlib.figure.Figure at 0x7fd2351b6320>"
      ]
     },
     "metadata": {},
     "output_type": "display_data"
    }
   ],
   "source": [
    "# comparing actual returns and simulated returns univariate distributions\n",
    "df.T.hist(bins=15)\n",
    "sim_df.T.hist(bins=15)\n",
    "f.tight_layout()"
   ]
  },
  {
   "cell_type": "code",
   "execution_count": 145,
   "metadata": {
    "collapsed": false
   },
   "outputs": [
    {
     "data": {
      "image/png": "[encoded data removed]",
      "text/plain": [
       "<matplotlib.figure.Figure at 0x7fd2347ad278>"
      ]
     },
     "metadata": {},
     "output_type": "display_data"
    }
   ],
   "source": [
    "# comparing actual returns and simulated returns bivariate distributions\n",
    "sns.set(style=\"dark\")\n",
    "f, axes = plt.subplots(1, 2, figsize=(12, 7))\n",
    "\n",
    "data = [df.loc['A'], df.loc['B'], sim_df.loc['A'], sim_df.loc['B']]\n",
    "\n",
    "for ax, s in zip(axes.flat, range(2)):\n",
    "    cmap = sns.cubehelix_palette(start=s, light=1, as_cmap=True)\n",
    "    sns.kdeplot(data[2*s],data[2*s+1], cmap=cmap, shade=True,cut=1, ax=ax)\n",
    "\n",
    "f.tight_layout()"
   ]
  }
 ],
 "metadata": {
  "kernelspec": {
   "display_name": "Python 3",
   "language": "python",
   "name": "python3"
  },
  "language_info": {
   "codemirror_mode": {
    "name": "ipython",
    "version": 3
   },
   "file_extension": ".py",
   "mimetype": "text/x-python",
   "name": "python",
   "nbconvert_exporter": "python",
   "pygments_lexer": "ipython3",
   "version": "3.5.3"
  }
 },
 "nbformat": 4,
 "nbformat_minor": 2
}
