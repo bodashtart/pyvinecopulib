{
 "cells": [
  {
   "cell_type": "markdown",
   "metadata": {},
   "source": [
    "## Packages"
   ]
  },
  {
   "cell_type": "code",
   "execution_count": 2,
   "metadata": {
    "collapsed": false
   },
   "outputs": [],
   "source": [
    "import pyvinecopulib as pvcl\n",
    "\n",
    "import numpy as np\n",
    "import pandas as pd\n",
    "import scipy.interpolate as interpolate\n",
    "import scipy.optimize as optimize\n",
    "\n",
    "import datetime\n",
    "import pandas_datareader as pdr\n",
    "\n",
    "import seaborn as sns\n",
    "import matplotlib.pyplot as plt\n",
    "%matplotlib inline"
   ]
  },
  {
   "cell_type": "markdown",
   "metadata": {},
   "source": [
    "## Data access"
   ]
  },
  {
   "cell_type": "code",
   "execution_count": null,
   "metadata": {
    "collapsed": true
   },
   "outputs": [],
   "source": [
    "# getting financial data from yahoo finance\n",
    "start = datetime.datetime(2016,1,1)\n",
    "end = datetime.datetime(2017,1,1) # datetime.date.today()\n",
    "symbols = [\"AAPL\", \"IBM\", \"GOOGL\", \"AMZN\"]\n",
    "panel = pdr.get_data_yahoo(symbols, start, end).transpose(1,0,2)\n",
    "df = panel.to_frame().xs('Close', axis=0, drop_level=True)\n",
    "df"
   ]
  },
  {
   "cell_type": "code",
   "execution_count": 4,
   "metadata": {
    "collapsed": false
   },
   "outputs": [],
   "source": [
    "# generating a multivariate normal distribution\n",
    "mean = [0., 0., 0., 0.]\n",
    "matrixSize = 4 \n",
    "A = np.random.rand(matrixSize, matrixSize)\n",
    "cov = np.dot(A, A.transpose()) # symmetric positive-semidefinite matrix\n",
    "df = pd.DataFrame(np.random.multivariate_normal(mean, cov, 100).T, index=list('ABCD'))"
   ]
  },
  {
   "cell_type": "code",
   "execution_count": 5,
   "metadata": {
    "collapsed": false
   },
   "outputs": [
    {
     "data": {
      "text/html": [
       "<div>\n",
       "<style>\n",
       "    .dataframe thead tr:only-child th {\n",
       "        text-align: right;\n",
       "    }\n",
       "\n",
       "    .dataframe thead th {\n",
       "        text-align: left;\n",
       "    }\n",
       "\n",
       "    .dataframe tbody tr th {\n",
       "        vertical-align: top;\n",
       "    }\n",
       "</style>\n",
       "<table border=\"1\" class=\"dataframe\">\n",
       "  <thead>\n",
       "    <tr style=\"text-align: right;\">\n",
       "      <th></th>\n",
       "      <th>2017-01-01</th>\n",
       "      <th>2017-01-02</th>\n",
       "      <th>2017-01-03</th>\n",
       "      <th>2017-01-04</th>\n",
       "      <th>2017-01-05</th>\n",
       "      <th>2017-01-06</th>\n",
       "      <th>2017-01-07</th>\n",
       "      <th>2017-01-08</th>\n",
       "      <th>2017-01-09</th>\n",
       "      <th>2017-01-10</th>\n",
       "      <th>...</th>\n",
       "      <th>2017-12-22</th>\n",
       "      <th>2017-12-23</th>\n",
       "      <th>2017-12-24</th>\n",
       "      <th>2017-12-25</th>\n",
       "      <th>2017-12-26</th>\n",
       "      <th>2017-12-27</th>\n",
       "      <th>2017-12-28</th>\n",
       "      <th>2017-12-29</th>\n",
       "      <th>2017-12-30</th>\n",
       "      <th>2017-12-31</th>\n",
       "    </tr>\n",
       "  </thead>\n",
       "  <tbody>\n",
       "    <tr>\n",
       "      <th>A</th>\n",
       "      <td>123.274875</td>\n",
       "      <td>123.436552</td>\n",
       "      <td>123.476848</td>\n",
       "      <td>123.354088</td>\n",
       "      <td>123.315783</td>\n",
       "      <td>123.531510</td>\n",
       "      <td>123.423601</td>\n",
       "      <td>123.223188</td>\n",
       "      <td>123.075114</td>\n",
       "      <td>123.077435</td>\n",
       "      <td>...</td>\n",
       "      <td>111.544363</td>\n",
       "      <td>111.417733</td>\n",
       "      <td>111.352605</td>\n",
       "      <td>111.227016</td>\n",
       "      <td>111.170646</td>\n",
       "      <td>110.855262</td>\n",
       "      <td>110.762134</td>\n",
       "      <td>110.826037</td>\n",
       "      <td>110.976484</td>\n",
       "      <td>110.780011</td>\n",
       "    </tr>\n",
       "    <tr>\n",
       "      <th>B</th>\n",
       "      <td>172.700308</td>\n",
       "      <td>172.966462</td>\n",
       "      <td>172.820201</td>\n",
       "      <td>172.917790</td>\n",
       "      <td>172.865205</td>\n",
       "      <td>173.243568</td>\n",
       "      <td>173.430318</td>\n",
       "      <td>173.609042</td>\n",
       "      <td>173.384888</td>\n",
       "      <td>173.380929</td>\n",
       "      <td>...</td>\n",
       "      <td>185.852622</td>\n",
       "      <td>185.917953</td>\n",
       "      <td>185.634653</td>\n",
       "      <td>185.651061</td>\n",
       "      <td>185.981565</td>\n",
       "      <td>185.968577</td>\n",
       "      <td>185.968038</td>\n",
       "      <td>186.102249</td>\n",
       "      <td>186.056054</td>\n",
       "      <td>186.125062</td>\n",
       "    </tr>\n",
       "    <tr>\n",
       "      <th>C</th>\n",
       "      <td>113.068809</td>\n",
       "      <td>113.177875</td>\n",
       "      <td>113.082666</td>\n",
       "      <td>113.042047</td>\n",
       "      <td>113.027984</td>\n",
       "      <td>113.176237</td>\n",
       "      <td>113.206007</td>\n",
       "      <td>113.153745</td>\n",
       "      <td>113.048766</td>\n",
       "      <td>113.087867</td>\n",
       "      <td>...</td>\n",
       "      <td>109.497677</td>\n",
       "      <td>109.473639</td>\n",
       "      <td>109.362796</td>\n",
       "      <td>109.358059</td>\n",
       "      <td>109.530217</td>\n",
       "      <td>109.405071</td>\n",
       "      <td>109.382931</td>\n",
       "      <td>109.417436</td>\n",
       "      <td>109.497946</td>\n",
       "      <td>109.489400</td>\n",
       "    </tr>\n",
       "    <tr>\n",
       "      <th>D</th>\n",
       "      <td>156.830454</td>\n",
       "      <td>157.132630</td>\n",
       "      <td>156.399618</td>\n",
       "      <td>156.443555</td>\n",
       "      <td>156.368142</td>\n",
       "      <td>156.870134</td>\n",
       "      <td>157.473190</td>\n",
       "      <td>157.728237</td>\n",
       "      <td>157.347611</td>\n",
       "      <td>157.489925</td>\n",
       "      <td>...</td>\n",
       "      <td>161.940680</td>\n",
       "      <td>162.155990</td>\n",
       "      <td>161.594172</td>\n",
       "      <td>162.012782</td>\n",
       "      <td>163.317802</td>\n",
       "      <td>163.533383</td>\n",
       "      <td>163.605367</td>\n",
       "      <td>163.646993</td>\n",
       "      <td>163.726408</td>\n",
       "      <td>164.365615</td>\n",
       "    </tr>\n",
       "  </tbody>\n",
       "</table>\n",
       "<p>4 rows × 365 columns</p>\n",
       "</div>"
      ],
      "text/plain": [
       "   2017-01-01  2017-01-02  2017-01-03  2017-01-04  2017-01-05  2017-01-06  \\\n",
       "A  123.274875  123.436552  123.476848  123.354088  123.315783  123.531510   \n",
       "B  172.700308  172.966462  172.820201  172.917790  172.865205  173.243568   \n",
       "C  113.068809  113.177875  113.082666  113.042047  113.027984  113.176237   \n",
       "D  156.830454  157.132630  156.399618  156.443555  156.368142  156.870134   \n",
       "\n",
       "   2017-01-07  2017-01-08  2017-01-09  2017-01-10     ...      2017-12-22  \\\n",
       "A  123.423601  123.223188  123.075114  123.077435     ...      111.544363   \n",
       "B  173.430318  173.609042  173.384888  173.380929     ...      185.852622   \n",
       "C  113.206007  113.153745  113.048766  113.087867     ...      109.497677   \n",
       "D  157.473190  157.728237  157.347611  157.489925     ...      161.940680   \n",
       "\n",
       "   2017-12-23  2017-12-24  2017-12-25  2017-12-26  2017-12-27  2017-12-28  \\\n",
       "A  111.417733  111.352605  111.227016  111.170646  110.855262  110.762134   \n",
       "B  185.917953  185.634653  185.651061  185.981565  185.968577  185.968038   \n",
       "C  109.473639  109.362796  109.358059  109.530217  109.405071  109.382931   \n",
       "D  162.155990  161.594172  162.012782  163.317802  163.533383  163.605367   \n",
       "\n",
       "   2017-12-29  2017-12-30  2017-12-31  \n",
       "A  110.826037  110.976484  110.780011  \n",
       "B  186.102249  186.056054  186.125062  \n",
       "C  109.417436  109.497946  109.489400  \n",
       "D  163.646993  163.726408  164.365615  \n",
       "\n",
       "[4 rows x 365 columns]"
      ]
     },
     "execution_count": 5,
     "metadata": {},
     "output_type": "execute_result"
    }
   ],
   "source": [
    "# multivariate geometric brownian motion\n",
    "dates = pd.date_range('20170101', periods=365).strftime('%Y-%m-%d')\n",
    "assets = list('ABCD'); N_assets = len(assets)\n",
    "S0 = np.random.uniform(100, 200, size=4)\n",
    "drift = 0.1 * np.random.randn(4)\n",
    "sigma = 0.2 * np.random.uniform(0.,.5,4)\n",
    "T = 1; N = len(dates)-1; tau = T / N # timestep\n",
    "S = S0 * np.exp(\n",
    "        np.cumsum((drift - 0.5 * sigma ** 2) * tau + sigma * np.sqrt(tau) * np.random.multivariate_normal(mean, cov, N), axis=0)\n",
    "    )\n",
    "S = np.insert(S, 0, S0, axis=0)\n",
    "df = pd.DataFrame(S.T, index=list('ABCD'), columns=dates)\n",
    "df"
   ]
  },
  {
   "cell_type": "markdown",
   "metadata": {},
   "source": [
    "## Data Setup"
   ]
  },
  {
   "cell_type": "code",
   "execution_count": 6,
   "metadata": {
    "collapsed": false
   },
   "outputs": [
    {
     "data": {
      "image/png": "[encoded data removed]",
      "text/plain": [
       "<matplotlib.figure.Figure at 0x7f2100aba828>"
      ]
     },
     "metadata": {},
     "output_type": "display_data"
    },
    {
     "data": {
      "image/png": "[encoded data removed]",
      "text/plain": [
       "<matplotlib.figure.Figure at 0x7f2100a6b860>"
      ]
     },
     "metadata": {},
     "output_type": "display_data"
    },
    {
     "data": {
      "image/png": "[encoded data removed]",
      "text/plain": [
       "<matplotlib.figure.Figure at 0x7f2100980b70>"
      ]
     },
     "metadata": {},
     "output_type": "display_data"
    }
   ],
   "source": [
    "# log returns\n",
    "returns = np.log(df).diff(axis=1).iloc[:,1:]\n",
    "\n",
    "def empirical_cdf(data):\n",
    "    return data.dropna().rank(axis=1) / (len(data.columns) + 1)\n",
    "\n",
    "# empirical cdf\n",
    "emp = empirical_cdf(returns)\n",
    "\n",
    "# empirical cdf plot \n",
    "cdf = interpolate.interp1d(returns.iloc[0,:], emp.iloc[0,:], fill_value=\"extrapolate\")\n",
    "x = np.arange(-.02, .02, 0.001)\n",
    "y = cdf(x)\n",
    "y[y<0]=0; y[y>1]=1\n",
    "f = plt.figure(1)\n",
    "plt.title(\"empirical cdf plot\")\n",
    "plt.plot(x, y)\n",
    "\n",
    "# inverse cdf\n",
    "def inverse_cdf(cdf, y):\n",
    "    def func(x):\n",
    "        return cdf(x) - y\n",
    "    return optimize.bisect(func, -1, 1)\n",
    "\n",
    "v_inverse_cdf = np.vectorize(inverse_cdf)\n",
    "\n",
    "# inverse empirical cdf plot\n",
    "x = np.arange(0., 1., 0.001)\n",
    "y = v_inverse_cdf(cdf, x)\n",
    "g = plt.figure(2)\n",
    "plt.title(\"inverse empirical cdf plot\")\n",
    "plt.plot(x, y)\n",
    "\n",
    "# empirical cdf histogram\n",
    "h = plt.figure(3)\n",
    "plt.title(\"histogram of probability integral transform\")\n",
    "emp.iloc[0,:].hist(bins=10)\n",
    "\n",
    "plt.show()"
   ]
  },
  {
   "cell_type": "markdown",
   "metadata": {},
   "source": [
    "## Fitting a vine copula"
   ]
  },
  {
   "cell_type": "code",
   "execution_count": 7,
   "metadata": {
    "collapsed": false
   },
   "outputs": [],
   "source": [
    "# fit general vine copula\n",
    "fitted = pvcl.vinecop(emp.values)"
   ]
  },
  {
   "cell_type": "code",
   "execution_count": 37,
   "metadata": {
    "collapsed": false
   },
   "outputs": [
    {
     "data": {
      "text/plain": [
       "numpy.ndarray"
      ]
     },
     "execution_count": 37,
     "metadata": {},
     "output_type": "execute_result"
    }
   ],
   "source": [
    "np.savetxt(\"foo.csv\", emp.values, delimiter=\",\")\n",
    "type(emp.values)"
   ]
  },
  {
   "cell_type": "code",
   "execution_count": 35,
   "metadata": {
    "collapsed": false
   },
   "outputs": [
    {
     "data": {
      "text/plain": [
       "array([[ 0.81643836,  0.64109589,  0.34794521, ...,  0.68767123,\n",
       "         0.82465753,  0.16712329],\n",
       "       [ 0.87671233,  0.1890411 ,  0.61917808, ...,  0.6739726 ,\n",
       "         0.35342466,  0.54794521],\n",
       "       [ 0.83561644,  0.24931507,  0.40273973, ...,  0.64383562,\n",
       "         0.76712329,  0.53972603],\n",
       "       [ 0.73150685,  0.04383562,  0.51506849, ...,  0.50958904,\n",
       "         0.55342466,  0.90410959]])"
      ]
     },
     "execution_count": 35,
     "metadata": {},
     "output_type": "execute_result"
    }
   ],
   "source": [
    "emp.values"
   ]
  },
  {
   "cell_type": "code",
   "execution_count": 27,
   "metadata": {
    "collapsed": false
   },
   "outputs": [
    {
     "data": {
      "text/plain": [
       "array([[3, 4, 1, 2],\n",
       "       [3, 1, 4, 0],\n",
       "       [1, 3, 0, 0],\n",
       "       [1, 0, 0, 0]], dtype=uint64)"
      ]
     },
     "execution_count": 27,
     "metadata": {},
     "output_type": "execute_result"
    }
   ],
   "source": [
    "a = pvcl.vinecop(emp.values)\n",
    "a.matrix"
   ]
  },
  {
   "cell_type": "code",
   "execution_count": 8,
   "metadata": {
    "collapsed": false
   },
   "outputs": [],
   "source": [
    "# fit vine copula with controls\n",
    "fitted = pvcl.vinecop(4)\n",
    "\n",
    "fit_controls = pvcl.vinecop_fit_controls()\n",
    "fit_controls.family_set = [\n",
    "    pvcl.bicop_family.indep,\n",
    "    pvcl.bicop_family.gaussian,\n",
    "    pvcl.bicop_family.student,\n",
    "    pvcl.bicop_family.clayton,\n",
    "    pvcl.bicop_family.gumbel,\n",
    "    pvcl.bicop_family.frank,\n",
    "]\n",
    "fit_controls.truncation_level = 2\n",
    "\n",
    "fitted.select_all(emp.values, fit_controls)"
   ]
  },
  {
   "cell_type": "code",
   "execution_count": 9,
   "metadata": {
    "collapsed": false
   },
   "outputs": [
    {
     "data": {
      "text/plain": [
       "array([[3, 4, 1, 2],\n",
       "       [3, 1, 4, 0],\n",
       "       [1, 3, 0, 0],\n",
       "       [1, 0, 0, 0]], dtype=uint64)"
      ]
     },
     "execution_count": 9,
     "metadata": {},
     "output_type": "execute_result"
    }
   ],
   "source": [
    "fitted.matrix"
   ]
  },
  {
   "cell_type": "code",
   "execution_count": 10,
   "metadata": {
    "collapsed": false
   },
   "outputs": [
    {
     "name": "stdout",
     "output_type": "stream",
     "text": [
      "R-vine matrix:\n",
      "[[3 4 1 2]\n",
      " [3 1 4 0]\n",
      " [1 3 0 0]\n",
      " [1 0 0 0]]\n",
      "\n",
      "Pair copula family for edge 2 in tree 0:\n",
      "gaussian\n",
      "\n",
      "Parameters:\n",
      "[0.861109192343859]\n",
      "\n",
      "Rotation:\n",
      "0\n"
     ]
    }
   ],
   "source": [
    "# access vine copula attributes\n",
    "print(\"R-vine matrix:\")\n",
    "print(fitted.matrix)\n",
    "print(\"\\nPair copula family for edge 2 in tree 0:\")\n",
    "print(fitted.family(0,2))\n",
    "print(\"\\nParameters:\")\n",
    "print(fitted.parameters(0,2))\n",
    "print(\"\\nRotation:\")\n",
    "print(fitted.rotation(0,2))"
   ]
  },
  {
   "cell_type": "markdown",
   "metadata": {},
   "source": [
    "## Simulating from a vine copula"
   ]
  },
  {
   "cell_type": "code",
   "execution_count": 11,
   "metadata": {
    "collapsed": false
   },
   "outputs": [
    {
     "data": {
      "text/html": [
       "<div>\n",
       "<style>\n",
       "    .dataframe thead tr:only-child th {\n",
       "        text-align: right;\n",
       "    }\n",
       "\n",
       "    .dataframe thead th {\n",
       "        text-align: left;\n",
       "    }\n",
       "\n",
       "    .dataframe tbody tr th {\n",
       "        vertical-align: top;\n",
       "    }\n",
       "</style>\n",
       "<table border=\"1\" class=\"dataframe\">\n",
       "  <thead>\n",
       "    <tr style=\"text-align: right;\">\n",
       "      <th></th>\n",
       "      <th>2018-01-01</th>\n",
       "      <th>2018-01-02</th>\n",
       "      <th>2018-01-03</th>\n",
       "      <th>2018-01-04</th>\n",
       "      <th>2018-01-05</th>\n",
       "      <th>2018-01-06</th>\n",
       "      <th>2018-01-07</th>\n",
       "      <th>2018-01-08</th>\n",
       "      <th>2018-01-09</th>\n",
       "      <th>2018-01-10</th>\n",
       "      <th>...</th>\n",
       "      <th>2018-12-21</th>\n",
       "      <th>2018-12-22</th>\n",
       "      <th>2018-12-23</th>\n",
       "      <th>2018-12-24</th>\n",
       "      <th>2018-12-25</th>\n",
       "      <th>2018-12-26</th>\n",
       "      <th>2018-12-27</th>\n",
       "      <th>2018-12-28</th>\n",
       "      <th>2018-12-29</th>\n",
       "      <th>2018-12-30</th>\n",
       "    </tr>\n",
       "  </thead>\n",
       "  <tbody>\n",
       "    <tr>\n",
       "      <th>A</th>\n",
       "      <td>0.700391</td>\n",
       "      <td>0.107152</td>\n",
       "      <td>0.017649</td>\n",
       "      <td>0.726838</td>\n",
       "      <td>0.097337</td>\n",
       "      <td>0.112385</td>\n",
       "      <td>0.708079</td>\n",
       "      <td>0.437875</td>\n",
       "      <td>0.312151</td>\n",
       "      <td>0.981217</td>\n",
       "      <td>...</td>\n",
       "      <td>0.105107</td>\n",
       "      <td>0.482179</td>\n",
       "      <td>0.516570</td>\n",
       "      <td>0.447722</td>\n",
       "      <td>0.872500</td>\n",
       "      <td>0.283577</td>\n",
       "      <td>0.313107</td>\n",
       "      <td>0.249152</td>\n",
       "      <td>0.214294</td>\n",
       "      <td>0.969724</td>\n",
       "    </tr>\n",
       "    <tr>\n",
       "      <th>B</th>\n",
       "      <td>0.352816</td>\n",
       "      <td>0.354296</td>\n",
       "      <td>0.096715</td>\n",
       "      <td>0.313951</td>\n",
       "      <td>0.657994</td>\n",
       "      <td>0.767339</td>\n",
       "      <td>0.539962</td>\n",
       "      <td>0.519934</td>\n",
       "      <td>0.180233</td>\n",
       "      <td>0.700454</td>\n",
       "      <td>...</td>\n",
       "      <td>0.033741</td>\n",
       "      <td>0.325730</td>\n",
       "      <td>0.182995</td>\n",
       "      <td>0.118146</td>\n",
       "      <td>0.536124</td>\n",
       "      <td>0.087620</td>\n",
       "      <td>0.045768</td>\n",
       "      <td>0.565511</td>\n",
       "      <td>0.267371</td>\n",
       "      <td>0.935740</td>\n",
       "    </tr>\n",
       "    <tr>\n",
       "      <th>C</th>\n",
       "      <td>0.528327</td>\n",
       "      <td>0.298750</td>\n",
       "      <td>0.060044</td>\n",
       "      <td>0.398257</td>\n",
       "      <td>0.240577</td>\n",
       "      <td>0.273214</td>\n",
       "      <td>0.522044</td>\n",
       "      <td>0.474306</td>\n",
       "      <td>0.397096</td>\n",
       "      <td>0.894332</td>\n",
       "      <td>...</td>\n",
       "      <td>0.037395</td>\n",
       "      <td>0.272817</td>\n",
       "      <td>0.339203</td>\n",
       "      <td>0.216526</td>\n",
       "      <td>0.941872</td>\n",
       "      <td>0.140715</td>\n",
       "      <td>0.071582</td>\n",
       "      <td>0.579495</td>\n",
       "      <td>0.405101</td>\n",
       "      <td>0.961227</td>\n",
       "    </tr>\n",
       "    <tr>\n",
       "      <th>D</th>\n",
       "      <td>0.354957</td>\n",
       "      <td>0.776340</td>\n",
       "      <td>0.336155</td>\n",
       "      <td>0.143237</td>\n",
       "      <td>0.474223</td>\n",
       "      <td>0.527505</td>\n",
       "      <td>0.341704</td>\n",
       "      <td>0.489556</td>\n",
       "      <td>0.328402</td>\n",
       "      <td>0.402173</td>\n",
       "      <td>...</td>\n",
       "      <td>0.090021</td>\n",
       "      <td>0.185955</td>\n",
       "      <td>0.135250</td>\n",
       "      <td>0.165113</td>\n",
       "      <td>0.744003</td>\n",
       "      <td>0.028173</td>\n",
       "      <td>0.047930</td>\n",
       "      <td>0.884228</td>\n",
       "      <td>0.555629</td>\n",
       "      <td>0.765901</td>\n",
       "    </tr>\n",
       "  </tbody>\n",
       "</table>\n",
       "<p>4 rows × 364 columns</p>\n",
       "</div>"
      ],
      "text/plain": [
       "   2018-01-01  2018-01-02  2018-01-03  2018-01-04  2018-01-05  2018-01-06  \\\n",
       "A    0.700391    0.107152    0.017649    0.726838    0.097337    0.112385   \n",
       "B    0.352816    0.354296    0.096715    0.313951    0.657994    0.767339   \n",
       "C    0.528327    0.298750    0.060044    0.398257    0.240577    0.273214   \n",
       "D    0.354957    0.776340    0.336155    0.143237    0.474223    0.527505   \n",
       "\n",
       "   2018-01-07  2018-01-08  2018-01-09  2018-01-10     ...      2018-12-21  \\\n",
       "A    0.708079    0.437875    0.312151    0.981217     ...        0.105107   \n",
       "B    0.539962    0.519934    0.180233    0.700454     ...        0.033741   \n",
       "C    0.522044    0.474306    0.397096    0.894332     ...        0.037395   \n",
       "D    0.341704    0.489556    0.328402    0.402173     ...        0.090021   \n",
       "\n",
       "   2018-12-22  2018-12-23  2018-12-24  2018-12-25  2018-12-26  2018-12-27  \\\n",
       "A    0.482179    0.516570    0.447722    0.872500    0.283577    0.313107   \n",
       "B    0.325730    0.182995    0.118146    0.536124    0.087620    0.045768   \n",
       "C    0.272817    0.339203    0.216526    0.941872    0.140715    0.071582   \n",
       "D    0.185955    0.135250    0.165113    0.744003    0.028173    0.047930   \n",
       "\n",
       "   2018-12-28  2018-12-29  2018-12-30  \n",
       "A    0.249152    0.214294    0.969724  \n",
       "B    0.565511    0.267371    0.935740  \n",
       "C    0.579495    0.405101    0.961227  \n",
       "D    0.884228    0.555629    0.765901  \n",
       "\n",
       "[4 rows x 364 columns]"
      ]
     },
     "execution_count": 11,
     "metadata": {},
     "output_type": "execute_result"
    }
   ],
   "source": [
    "num_draws = 364\n",
    "future_dates =  pd.date_range('20180101', periods=364).strftime('%Y-%m-%d')\n",
    "sim_unif = pd.DataFrame(fitted.simulate(num_draws), index=df.index.values, columns=future_dates)\n",
    "sim_unif"
   ]
  },
  {
   "cell_type": "code",
   "execution_count": 12,
   "metadata": {
    "collapsed": false
   },
   "outputs": [
    {
     "data": {
      "text/html": [
       "<div>\n",
       "<style>\n",
       "    .dataframe thead tr:only-child th {\n",
       "        text-align: right;\n",
       "    }\n",
       "\n",
       "    .dataframe thead th {\n",
       "        text-align: left;\n",
       "    }\n",
       "\n",
       "    .dataframe tbody tr th {\n",
       "        vertical-align: top;\n",
       "    }\n",
       "</style>\n",
       "<table border=\"1\" class=\"dataframe\">\n",
       "  <thead>\n",
       "    <tr style=\"text-align: right;\">\n",
       "      <th></th>\n",
       "      <th>2018-01-01</th>\n",
       "      <th>2018-01-02</th>\n",
       "      <th>2018-01-03</th>\n",
       "      <th>2018-01-04</th>\n",
       "      <th>2018-01-05</th>\n",
       "      <th>2018-01-06</th>\n",
       "      <th>2018-01-07</th>\n",
       "      <th>2018-01-08</th>\n",
       "      <th>2018-01-09</th>\n",
       "      <th>2018-01-10</th>\n",
       "      <th>...</th>\n",
       "      <th>2018-12-21</th>\n",
       "      <th>2018-12-22</th>\n",
       "      <th>2018-12-23</th>\n",
       "      <th>2018-12-24</th>\n",
       "      <th>2018-12-25</th>\n",
       "      <th>2018-12-26</th>\n",
       "      <th>2018-12-27</th>\n",
       "      <th>2018-12-28</th>\n",
       "      <th>2018-12-29</th>\n",
       "      <th>2018-12-30</th>\n",
       "    </tr>\n",
       "  </thead>\n",
       "  <tbody>\n",
       "    <tr>\n",
       "      <th>A</th>\n",
       "      <td>0.000609</td>\n",
       "      <td>-0.002367</td>\n",
       "      <td>-0.003908</td>\n",
       "      <td>0.000729</td>\n",
       "      <td>-0.002491</td>\n",
       "      <td>-0.002168</td>\n",
       "      <td>0.000657</td>\n",
       "      <td>-0.000678</td>\n",
       "      <td>-0.001143</td>\n",
       "      <td>0.003387</td>\n",
       "      <td>...</td>\n",
       "      <td>-0.002414</td>\n",
       "      <td>-0.000542</td>\n",
       "      <td>-0.000319</td>\n",
       "      <td>-0.000633</td>\n",
       "      <td>0.001623</td>\n",
       "      <td>-0.001227</td>\n",
       "      <td>-0.001143</td>\n",
       "      <td>-0.001442</td>\n",
       "      <td>-0.001553</td>\n",
       "      <td>0.003193</td>\n",
       "    </tr>\n",
       "    <tr>\n",
       "      <th>B</th>\n",
       "      <td>-0.000251</td>\n",
       "      <td>-0.000243</td>\n",
       "      <td>-0.001284</td>\n",
       "      <td>-0.000355</td>\n",
       "      <td>0.000697</td>\n",
       "      <td>0.001051</td>\n",
       "      <td>0.000357</td>\n",
       "      <td>0.000309</td>\n",
       "      <td>-0.000871</td>\n",
       "      <td>0.000838</td>\n",
       "      <td>...</td>\n",
       "      <td>-0.001807</td>\n",
       "      <td>-0.000313</td>\n",
       "      <td>-0.000869</td>\n",
       "      <td>-0.001162</td>\n",
       "      <td>0.000355</td>\n",
       "      <td>-0.001355</td>\n",
       "      <td>-0.001749</td>\n",
       "      <td>0.000444</td>\n",
       "      <td>-0.000510</td>\n",
       "      <td>0.001964</td>\n",
       "    </tr>\n",
       "    <tr>\n",
       "      <th>C</th>\n",
       "      <td>-0.000103</td>\n",
       "      <td>-0.000650</td>\n",
       "      <td>-0.001906</td>\n",
       "      <td>-0.000366</td>\n",
       "      <td>-0.000862</td>\n",
       "      <td>-0.000723</td>\n",
       "      <td>-0.000105</td>\n",
       "      <td>-0.000210</td>\n",
       "      <td>-0.000367</td>\n",
       "      <td>0.001292</td>\n",
       "      <td>...</td>\n",
       "      <td>-0.002148</td>\n",
       "      <td>-0.000723</td>\n",
       "      <td>-0.000516</td>\n",
       "      <td>-0.000957</td>\n",
       "      <td>0.001645</td>\n",
       "      <td>-0.001303</td>\n",
       "      <td>-0.001780</td>\n",
       "      <td>0.000071</td>\n",
       "      <td>-0.000356</td>\n",
       "      <td>0.002062</td>\n",
       "    </tr>\n",
       "    <tr>\n",
       "      <th>D</th>\n",
       "      <td>-0.000866</td>\n",
       "      <td>0.002349</td>\n",
       "      <td>-0.000976</td>\n",
       "      <td>-0.003200</td>\n",
       "      <td>0.000080</td>\n",
       "      <td>0.000324</td>\n",
       "      <td>-0.000943</td>\n",
       "      <td>0.000157</td>\n",
       "      <td>-0.001089</td>\n",
       "      <td>-0.000491</td>\n",
       "      <td>...</td>\n",
       "      <td>-0.003930</td>\n",
       "      <td>-0.002531</td>\n",
       "      <td>-0.003304</td>\n",
       "      <td>-0.002815</td>\n",
       "      <td>0.002014</td>\n",
       "      <td>-0.005147</td>\n",
       "      <td>-0.004584</td>\n",
       "      <td>0.003649</td>\n",
       "      <td>0.000489</td>\n",
       "      <td>0.002247</td>\n",
       "    </tr>\n",
       "  </tbody>\n",
       "</table>\n",
       "<p>4 rows × 364 columns</p>\n",
       "</div>"
      ],
      "text/plain": [
       "   2018-01-01  2018-01-02  2018-01-03  2018-01-04  2018-01-05  2018-01-06  \\\n",
       "A    0.000609   -0.002367   -0.003908    0.000729   -0.002491   -0.002168   \n",
       "B   -0.000251   -0.000243   -0.001284   -0.000355    0.000697    0.001051   \n",
       "C   -0.000103   -0.000650   -0.001906   -0.000366   -0.000862   -0.000723   \n",
       "D   -0.000866    0.002349   -0.000976   -0.003200    0.000080    0.000324   \n",
       "\n",
       "   2018-01-07  2018-01-08  2018-01-09  2018-01-10     ...      2018-12-21  \\\n",
       "A    0.000657   -0.000678   -0.001143    0.003387     ...       -0.002414   \n",
       "B    0.000357    0.000309   -0.000871    0.000838     ...       -0.001807   \n",
       "C   -0.000105   -0.000210   -0.000367    0.001292     ...       -0.002148   \n",
       "D   -0.000943    0.000157   -0.001089   -0.000491     ...       -0.003930   \n",
       "\n",
       "   2018-12-22  2018-12-23  2018-12-24  2018-12-25  2018-12-26  2018-12-27  \\\n",
       "A   -0.000542   -0.000319   -0.000633    0.001623   -0.001227   -0.001143   \n",
       "B   -0.000313   -0.000869   -0.001162    0.000355   -0.001355   -0.001749   \n",
       "C   -0.000723   -0.000516   -0.000957    0.001645   -0.001303   -0.001780   \n",
       "D   -0.002531   -0.003304   -0.002815    0.002014   -0.005147   -0.004584   \n",
       "\n",
       "   2018-12-28  2018-12-29  2018-12-30  \n",
       "A   -0.001442   -0.001553    0.003193  \n",
       "B    0.000444   -0.000510    0.001964  \n",
       "C    0.000071   -0.000356    0.002062  \n",
       "D    0.003649    0.000489    0.002247  \n",
       "\n",
       "[4 rows x 364 columns]"
      ]
     },
     "execution_count": 12,
     "metadata": {},
     "output_type": "execute_result"
    }
   ],
   "source": [
    "# flip uniform marginals into returns\n",
    "sim_returns = sim_unif.copy()\n",
    "\n",
    "for i in range(len(df.index)):\n",
    "    cdf = interpolate.interp1d(returns.iloc[i,:], emp.iloc[i,:], fill_value=\"extrapolate\")\n",
    "    sim_returns_slice = v_inverse_cdf(cdf, sim_unif.iloc[i,:])\n",
    "    sim_returns.iloc[i,:] = sim_returns_slice\n",
    "\n",
    "sim_returns"
   ]
  },
  {
   "cell_type": "code",
   "execution_count": 14,
   "metadata": {
    "collapsed": false
   },
   "outputs": [
    {
     "data": {
      "text/html": [
       "<div>\n",
       "<style>\n",
       "    .dataframe thead tr:only-child th {\n",
       "        text-align: right;\n",
       "    }\n",
       "\n",
       "    .dataframe thead th {\n",
       "        text-align: left;\n",
       "    }\n",
       "\n",
       "    .dataframe tbody tr th {\n",
       "        vertical-align: top;\n",
       "    }\n",
       "</style>\n",
       "<table border=\"1\" class=\"dataframe\">\n",
       "  <thead>\n",
       "    <tr style=\"text-align: right;\">\n",
       "      <th></th>\n",
       "      <th>2018-01-01</th>\n",
       "      <th>2018-01-02</th>\n",
       "      <th>2018-01-03</th>\n",
       "      <th>2018-01-04</th>\n",
       "      <th>2018-01-05</th>\n",
       "      <th>2018-01-06</th>\n",
       "      <th>2018-01-07</th>\n",
       "      <th>2018-01-08</th>\n",
       "      <th>2018-01-09</th>\n",
       "      <th>2018-01-10</th>\n",
       "      <th>...</th>\n",
       "      <th>2018-12-21</th>\n",
       "      <th>2018-12-22</th>\n",
       "      <th>2018-12-23</th>\n",
       "      <th>2018-12-24</th>\n",
       "      <th>2018-12-25</th>\n",
       "      <th>2018-12-26</th>\n",
       "      <th>2018-12-27</th>\n",
       "      <th>2018-12-28</th>\n",
       "      <th>2018-12-29</th>\n",
       "      <th>2018-12-30</th>\n",
       "    </tr>\n",
       "  </thead>\n",
       "  <tbody>\n",
       "    <tr>\n",
       "      <th>A</th>\n",
       "      <td>110.847533</td>\n",
       "      <td>110.585472</td>\n",
       "      <td>110.154129</td>\n",
       "      <td>110.234475</td>\n",
       "      <td>109.960255</td>\n",
       "      <td>109.722081</td>\n",
       "      <td>109.794242</td>\n",
       "      <td>109.719812</td>\n",
       "      <td>109.594464</td>\n",
       "      <td>109.966315</td>\n",
       "      <td>...</td>\n",
       "      <td>99.401005</td>\n",
       "      <td>99.347105</td>\n",
       "      <td>99.315414</td>\n",
       "      <td>99.252569</td>\n",
       "      <td>99.413772</td>\n",
       "      <td>99.291836</td>\n",
       "      <td>99.178458</td>\n",
       "      <td>99.035566</td>\n",
       "      <td>98.881919</td>\n",
       "      <td>99.198175</td>\n",
       "    </tr>\n",
       "    <tr>\n",
       "      <th>B</th>\n",
       "      <td>186.078405</td>\n",
       "      <td>186.033187</td>\n",
       "      <td>185.794441</td>\n",
       "      <td>185.728510</td>\n",
       "      <td>185.858092</td>\n",
       "      <td>186.053543</td>\n",
       "      <td>186.119901</td>\n",
       "      <td>186.177331</td>\n",
       "      <td>186.015159</td>\n",
       "      <td>186.171056</td>\n",
       "      <td>...</td>\n",
       "      <td>198.600622</td>\n",
       "      <td>198.538476</td>\n",
       "      <td>198.366046</td>\n",
       "      <td>198.135666</td>\n",
       "      <td>198.206101</td>\n",
       "      <td>197.937692</td>\n",
       "      <td>197.591842</td>\n",
       "      <td>197.679583</td>\n",
       "      <td>197.578876</td>\n",
       "      <td>197.967271</td>\n",
       "    </tr>\n",
       "    <tr>\n",
       "      <th>C</th>\n",
       "      <td>109.478147</td>\n",
       "      <td>109.406994</td>\n",
       "      <td>109.198649</td>\n",
       "      <td>109.158637</td>\n",
       "      <td>109.064576</td>\n",
       "      <td>108.985739</td>\n",
       "      <td>108.974345</td>\n",
       "      <td>108.951494</td>\n",
       "      <td>108.911493</td>\n",
       "      <td>109.052245</td>\n",
       "      <td>...</td>\n",
       "      <td>105.886084</td>\n",
       "      <td>105.809505</td>\n",
       "      <td>105.754961</td>\n",
       "      <td>105.653855</td>\n",
       "      <td>105.827800</td>\n",
       "      <td>105.689978</td>\n",
       "      <td>105.502000</td>\n",
       "      <td>105.509498</td>\n",
       "      <td>105.471965</td>\n",
       "      <td>105.689707</td>\n",
       "    </tr>\n",
       "    <tr>\n",
       "      <th>D</th>\n",
       "      <td>164.223286</td>\n",
       "      <td>164.609487</td>\n",
       "      <td>164.448854</td>\n",
       "      <td>163.923408</td>\n",
       "      <td>163.936591</td>\n",
       "      <td>163.989739</td>\n",
       "      <td>163.835123</td>\n",
       "      <td>163.860850</td>\n",
       "      <td>163.682557</td>\n",
       "      <td>163.602262</td>\n",
       "      <td>...</td>\n",
       "      <td>173.256081</td>\n",
       "      <td>172.818124</td>\n",
       "      <td>172.248071</td>\n",
       "      <td>171.763894</td>\n",
       "      <td>172.110134</td>\n",
       "      <td>171.226610</td>\n",
       "      <td>170.443460</td>\n",
       "      <td>171.066475</td>\n",
       "      <td>171.150201</td>\n",
       "      <td>171.535137</td>\n",
       "    </tr>\n",
       "  </tbody>\n",
       "</table>\n",
       "<p>4 rows × 364 columns</p>\n",
       "</div>"
      ],
      "text/plain": [
       "   2018-01-01  2018-01-02  2018-01-03  2018-01-04  2018-01-05  2018-01-06  \\\n",
       "A  110.847533  110.585472  110.154129  110.234475  109.960255  109.722081   \n",
       "B  186.078405  186.033187  185.794441  185.728510  185.858092  186.053543   \n",
       "C  109.478147  109.406994  109.198649  109.158637  109.064576  108.985739   \n",
       "D  164.223286  164.609487  164.448854  163.923408  163.936591  163.989739   \n",
       "\n",
       "   2018-01-07  2018-01-08  2018-01-09  2018-01-10     ...      2018-12-21  \\\n",
       "A  109.794242  109.719812  109.594464  109.966315     ...       99.401005   \n",
       "B  186.119901  186.177331  186.015159  186.171056     ...      198.600622   \n",
       "C  108.974345  108.951494  108.911493  109.052245     ...      105.886084   \n",
       "D  163.835123  163.860850  163.682557  163.602262     ...      173.256081   \n",
       "\n",
       "   2018-12-22  2018-12-23  2018-12-24  2018-12-25  2018-12-26  2018-12-27  \\\n",
       "A   99.347105   99.315414   99.252569   99.413772   99.291836   99.178458   \n",
       "B  198.538476  198.366046  198.135666  198.206101  197.937692  197.591842   \n",
       "C  105.809505  105.754961  105.653855  105.827800  105.689978  105.502000   \n",
       "D  172.818124  172.248071  171.763894  172.110134  171.226610  170.443460   \n",
       "\n",
       "   2018-12-28  2018-12-29  2018-12-30  \n",
       "A   99.035566   98.881919   99.198175  \n",
       "B  197.679583  197.578876  197.967271  \n",
       "C  105.509498  105.471965  105.689707  \n",
       "D  171.066475  171.150201  171.535137  \n",
       "\n",
       "[4 rows x 364 columns]"
      ]
     },
     "execution_count": 14,
     "metadata": {},
     "output_type": "execute_result"
    }
   ],
   "source": [
    "# flip simulated returns into underlying price paths\n",
    "cum_returns = np.cumsum(sim_returns, axis=1)\n",
    "temp = (cum_returns.transpose() + np.log(df.iloc[:,-1])).transpose()\n",
    "price_paths = np.exp(temp)\n",
    "#price_paths.insert(0, dates[-1], df.ix[:,-1])\n",
    "price_paths"
   ]
  },
  {
   "cell_type": "markdown",
   "metadata": {},
   "source": [
    "## Plotting calibration and simulation data"
   ]
  },
  {
   "cell_type": "code",
   "execution_count": 15,
   "metadata": {
    "collapsed": false
   },
   "outputs": [
    {
     "data": {
      "image/png": "[encoded data removed]",
      "text/plain": [
       "<matplotlib.figure.Figure at 0x7f2100aeb0f0>"
      ]
     },
     "metadata": {},
     "output_type": "display_data"
    }
   ],
   "source": [
    "# comparing input price path with simulated price path\n",
    "plt.figure(figsize=(15,5))\n",
    "plt.title('Calibration data continued with simulated data')\n",
    "ax = plt.subplot(111)\n",
    "\n",
    "for i in range(4):\n",
    "    plt.plot_date(df.iloc[i,:].index, df.iloc[i,:].values, '-', label=df.iloc[i,:].name)\n",
    "\n",
    "for i in range(4):\n",
    "    plt.plot_date(price_paths.iloc[i,:].index, price_paths.iloc[i,:].values, '-', \n",
    "                  label=price_paths.iloc[i,:].name)\n",
    "    \n",
    "ax.legend(bbox_to_anchor=(1, 1))\n",
    "plt.show()"
   ]
  },
  {
   "cell_type": "code",
   "execution_count": 19,
   "metadata": {
    "collapsed": false
   },
   "outputs": [
    {
     "data": {
      "image/png": "[encoded data removed]",
      "text/plain": [
       "<matplotlib.figure.Figure at 0x7f20fd669f60>"
      ]
     },
     "metadata": {},
     "output_type": "display_data"
    },
    {
     "data": {
      "image/png": "[encoded data removed]",
      "text/plain": [
       "<matplotlib.figure.Figure at 0x7f20fd8d4a58>"
      ]
     },
     "metadata": {},
     "output_type": "display_data"
    }
   ],
   "source": [
    "# comparing actual returns and simulated returns univariate distributions\n",
    "df.T.hist(bins=20)\n",
    "price_paths.T.hist(bins=20)\n",
    "f.tight_layout()"
   ]
  },
  {
   "cell_type": "code",
   "execution_count": 20,
   "metadata": {
    "collapsed": false
   },
   "outputs": [
    {
     "data": {
      "image/png": "[encoded data removed]",
      "text/plain": [
       "<matplotlib.figure.Figure at 0x7f20fd951be0>"
      ]
     },
     "metadata": {},
     "output_type": "display_data"
    }
   ],
   "source": [
    "# comparing actual returns and simulated returns bivariate distributions\n",
    "sns.set(style=\"dark\")\n",
    "f, axes = plt.subplots(1, 2, figsize=(12, 7))\n",
    "\n",
    "data = [returns.loc['A'], returns.loc['C'], sim_returns.loc['A'], sim_returns.loc['C']]\n",
    "\n",
    "for ax, s in zip(axes.flat, range(2)):\n",
    "    cmap = sns.cubehelix_palette(start=s, light=1, as_cmap=True)\n",
    "    sns.kdeplot(data[2*s],data[2*s+1], cmap=cmap, shade=True,cut=1, ax=ax)\n",
    "\n",
    "f.tight_layout()"
   ]
  }
 ],
 "metadata": {
  "kernelspec": {
   "display_name": "Python 3",
   "language": "python",
   "name": "python3"
  },
  "language_info": {
   "codemirror_mode": {
    "name": "ipython",
    "version": 3
   },
   "file_extension": ".py",
   "mimetype": "text/x-python",
   "name": "python",
   "nbconvert_exporter": "python",
   "pygments_lexer": "ipython3",
   "version": "3.5.3"
  }
 },
 "nbformat": 4,
 "nbformat_minor": 2
}
