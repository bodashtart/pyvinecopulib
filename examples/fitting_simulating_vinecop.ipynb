{
 "cells": [
  {
   "cell_type": "code",
   "execution_count": 4,
   "metadata": {
    "collapsed": false
   },
   "outputs": [],
   "source": [
    "import pyvinecopulib as pvcl\n",
    "\n",
    "import numpy as np\n",
    "import pandas as pd\n",
    "import scipy.interpolate as interpolate\n",
    "import scipy.optimize as optimize\n",
    "\n",
    "import datetime\n",
    "import pandas_datareader as pdr\n",
    "\n",
    "import seaborn\n",
    "import matplotlib.pyplot as plt\n",
    "%matplotlib inline"
   ]
  },
  {
   "cell_type": "code",
   "execution_count": 2,
   "metadata": {
    "collapsed": false,
    "scrolled": true
   },
   "outputs": [
    {
     "data": {
      "text/html": [
       "<div>\n",
       "<table border=\"1\" class=\"dataframe\">\n",
       "  <thead>\n",
       "    <tr style=\"text-align: right;\">\n",
       "      <th>Date</th>\n",
       "      <th>2016-01-04 00:00:00</th>\n",
       "      <th>2016-01-05 00:00:00</th>\n",
       "      <th>2016-01-06 00:00:00</th>\n",
       "      <th>2016-01-07 00:00:00</th>\n",
       "      <th>2016-01-08 00:00:00</th>\n",
       "      <th>2016-01-11 00:00:00</th>\n",
       "      <th>2016-01-12 00:00:00</th>\n",
       "      <th>2016-01-13 00:00:00</th>\n",
       "      <th>2016-01-14 00:00:00</th>\n",
       "      <th>2016-01-15 00:00:00</th>\n",
       "      <th>...</th>\n",
       "      <th>2016-12-16 00:00:00</th>\n",
       "      <th>2016-12-19 00:00:00</th>\n",
       "      <th>2016-12-20 00:00:00</th>\n",
       "      <th>2016-12-21 00:00:00</th>\n",
       "      <th>2016-12-22 00:00:00</th>\n",
       "      <th>2016-12-23 00:00:00</th>\n",
       "      <th>2016-12-27 00:00:00</th>\n",
       "      <th>2016-12-28 00:00:00</th>\n",
       "      <th>2016-12-29 00:00:00</th>\n",
       "      <th>2016-12-30 00:00:00</th>\n",
       "    </tr>\n",
       "    <tr>\n",
       "      <th>minor</th>\n",
       "      <th></th>\n",
       "      <th></th>\n",
       "      <th></th>\n",
       "      <th></th>\n",
       "      <th></th>\n",
       "      <th></th>\n",
       "      <th></th>\n",
       "      <th></th>\n",
       "      <th></th>\n",
       "      <th></th>\n",
       "      <th></th>\n",
       "      <th></th>\n",
       "      <th></th>\n",
       "      <th></th>\n",
       "      <th></th>\n",
       "      <th></th>\n",
       "      <th></th>\n",
       "      <th></th>\n",
       "      <th></th>\n",
       "      <th></th>\n",
       "      <th></th>\n",
       "    </tr>\n",
       "  </thead>\n",
       "  <tbody>\n",
       "    <tr>\n",
       "      <th>AAPL</th>\n",
       "      <td>105.349998</td>\n",
       "      <td>102.709999</td>\n",
       "      <td>100.699997</td>\n",
       "      <td>96.449997</td>\n",
       "      <td>96.959999</td>\n",
       "      <td>98.529999</td>\n",
       "      <td>99.959999</td>\n",
       "      <td>97.389999</td>\n",
       "      <td>99.519997</td>\n",
       "      <td>97.129997</td>\n",
       "      <td>...</td>\n",
       "      <td>115.970001</td>\n",
       "      <td>116.639999</td>\n",
       "      <td>116.949997</td>\n",
       "      <td>117.059998</td>\n",
       "      <td>116.290001</td>\n",
       "      <td>116.519997</td>\n",
       "      <td>117.260002</td>\n",
       "      <td>116.760002</td>\n",
       "      <td>116.730003</td>\n",
       "      <td>115.820000</td>\n",
       "    </tr>\n",
       "    <tr>\n",
       "      <th>AMZN</th>\n",
       "      <td>636.989990</td>\n",
       "      <td>633.789978</td>\n",
       "      <td>632.650024</td>\n",
       "      <td>607.940002</td>\n",
       "      <td>607.049988</td>\n",
       "      <td>617.739990</td>\n",
       "      <td>617.890015</td>\n",
       "      <td>581.809998</td>\n",
       "      <td>593.000000</td>\n",
       "      <td>570.179993</td>\n",
       "      <td>...</td>\n",
       "      <td>757.770020</td>\n",
       "      <td>766.000000</td>\n",
       "      <td>771.219971</td>\n",
       "      <td>770.599976</td>\n",
       "      <td>766.340027</td>\n",
       "      <td>760.590027</td>\n",
       "      <td>771.400024</td>\n",
       "      <td>772.130005</td>\n",
       "      <td>765.150024</td>\n",
       "      <td>749.869995</td>\n",
       "    </tr>\n",
       "    <tr>\n",
       "      <th>GOOGL</th>\n",
       "      <td>759.440002</td>\n",
       "      <td>761.530029</td>\n",
       "      <td>759.330017</td>\n",
       "      <td>741.000000</td>\n",
       "      <td>730.909973</td>\n",
       "      <td>733.070007</td>\n",
       "      <td>745.340027</td>\n",
       "      <td>719.570007</td>\n",
       "      <td>731.390015</td>\n",
       "      <td>710.489990</td>\n",
       "      <td>...</td>\n",
       "      <td>809.840027</td>\n",
       "      <td>812.500000</td>\n",
       "      <td>815.200012</td>\n",
       "      <td>812.200012</td>\n",
       "      <td>809.679993</td>\n",
       "      <td>807.799988</td>\n",
       "      <td>809.929993</td>\n",
       "      <td>804.570007</td>\n",
       "      <td>802.880005</td>\n",
       "      <td>792.450012</td>\n",
       "    </tr>\n",
       "    <tr>\n",
       "      <th>IBM</th>\n",
       "      <td>135.949997</td>\n",
       "      <td>135.850006</td>\n",
       "      <td>135.169998</td>\n",
       "      <td>132.860001</td>\n",
       "      <td>131.630005</td>\n",
       "      <td>133.229996</td>\n",
       "      <td>132.899994</td>\n",
       "      <td>131.169998</td>\n",
       "      <td>132.910004</td>\n",
       "      <td>130.029999</td>\n",
       "      <td>...</td>\n",
       "      <td>166.729996</td>\n",
       "      <td>166.679993</td>\n",
       "      <td>167.600006</td>\n",
       "      <td>167.330002</td>\n",
       "      <td>167.059998</td>\n",
       "      <td>166.710007</td>\n",
       "      <td>167.139999</td>\n",
       "      <td>166.190002</td>\n",
       "      <td>166.600006</td>\n",
       "      <td>165.990005</td>\n",
       "    </tr>\n",
       "  </tbody>\n",
       "</table>\n",
       "<p>4 rows × 252 columns</p>\n",
       "</div>"
      ],
      "text/plain": [
       "Date   2016-01-04  2016-01-05  2016-01-06  2016-01-07  2016-01-08  2016-01-11  \\\n",
       "minor                                                                           \n",
       "AAPL   105.349998  102.709999  100.699997   96.449997   96.959999   98.529999   \n",
       "AMZN   636.989990  633.789978  632.650024  607.940002  607.049988  617.739990   \n",
       "GOOGL  759.440002  761.530029  759.330017  741.000000  730.909973  733.070007   \n",
       "IBM    135.949997  135.850006  135.169998  132.860001  131.630005  133.229996   \n",
       "\n",
       "Date   2016-01-12  2016-01-13  2016-01-14  2016-01-15     ...      2016-12-16  \\\n",
       "minor                                                     ...                   \n",
       "AAPL    99.959999   97.389999   99.519997   97.129997     ...      115.970001   \n",
       "AMZN   617.890015  581.809998  593.000000  570.179993     ...      757.770020   \n",
       "GOOGL  745.340027  719.570007  731.390015  710.489990     ...      809.840027   \n",
       "IBM    132.899994  131.169998  132.910004  130.029999     ...      166.729996   \n",
       "\n",
       "Date   2016-12-19  2016-12-20  2016-12-21  2016-12-22  2016-12-23  2016-12-27  \\\n",
       "minor                                                                           \n",
       "AAPL   116.639999  116.949997  117.059998  116.290001  116.519997  117.260002   \n",
       "AMZN   766.000000  771.219971  770.599976  766.340027  760.590027  771.400024   \n",
       "GOOGL  812.500000  815.200012  812.200012  809.679993  807.799988  809.929993   \n",
       "IBM    166.679993  167.600006  167.330002  167.059998  166.710007  167.139999   \n",
       "\n",
       "Date   2016-12-28  2016-12-29  2016-12-30  \n",
       "minor                                      \n",
       "AAPL   116.760002  116.730003  115.820000  \n",
       "AMZN   772.130005  765.150024  749.869995  \n",
       "GOOGL  804.570007  802.880005  792.450012  \n",
       "IBM    166.190002  166.600006  165.990005  \n",
       "\n",
       "[4 rows x 252 columns]"
      ]
     },
     "execution_count": 2,
     "metadata": {},
     "output_type": "execute_result"
    }
   ],
   "source": [
    "# pull financial data\n",
    "start = datetime.datetime(2016,1,1)\n",
    "end = datetime.datetime(2017,1,1) # datetime.date.today()\n",
    "symbols = [\"AAPL\", \"IBM\", \"GOOGL\", \"AMZN\"]\n",
    "panel = pdr.get_data_yahoo(symbols, start, end).transpose(1,0,2)\n",
    "df = panel.to_frame().xs('Close', axis=0, drop_level=True)\n",
    "df"
   ]
  },
  {
   "cell_type": "code",
   "execution_count": 9,
   "metadata": {
    "collapsed": false
   },
   "outputs": [
    {
     "data": {
      "text/plain": [
       "<matplotlib.axes._subplots.AxesSubplot at 0x7ff65c2db438>"
      ]
     },
     "execution_count": 9,
     "metadata": {},
     "output_type": "execute_result"
    },
    {
     "data": {
      "image/png": "[encoded data removed]",
      "text/plain": [
       "<matplotlib.figure.Figure at 0x7ff65c2ff7b8>"
      ]
     },
     "metadata": {},
     "output_type": "display_data"
    }
   ],
   "source": [
    "# log returns\n",
    "returns = np.log(df).diff(axis=1).ix[:,1:]\n",
    "\n",
    "def empirical_cdf(data):\n",
    "    return data.dropna().rank(axis=1) / (len(data.columns) + 1) ####remove the +1 and test\n",
    "\n",
    "# empirical cdf\n",
    "emp = empirical_cdf(returns)\n",
    "\n",
    "# empirical cdf histogram\n",
    "emp.iloc[0,:].hist(bins=10)"
   ]
  },
  {
   "cell_type": "code",
   "execution_count": 11,
   "metadata": {
    "collapsed": false
   },
   "outputs": [
    {
     "data": {
      "image/png": "[encoded data removed]",
      "text/plain": [
       "<matplotlib.figure.Figure at 0x7ff65c20a438>"
      ]
     },
     "metadata": {},
     "output_type": "display_data"
    }
   ],
   "source": [
    "# empirical cdf plot \n",
    "cdf = interpolate.interp1d(returns.iloc[0,:], emp.iloc[0,:], fill_value=\"extrapolate\")\n",
    "x = np.arange(-.05, .05, 0.001)\n",
    "y = cdf(x)\n",
    "plt.plot(x, y)\n",
    "plt.show()"
   ]
  },
  {
   "cell_type": "code",
   "execution_count": 13,
   "metadata": {
    "collapsed": false
   },
   "outputs": [
    {
     "data": {
      "image/png": "[encoded data removed]",
      "text/plain": [
       "<matplotlib.figure.Figure at 0x7ff65c17b278>"
      ]
     },
     "metadata": {},
     "output_type": "display_data"
    }
   ],
   "source": [
    "# inverse cdf\n",
    "def inverse_cdf(cdf, y):\n",
    "    def func(x):\n",
    "        return cdf(x) - y\n",
    "    return optimize.bisect(func, -1, 1)\n",
    "\n",
    "v_inverse_cdf = np.vectorize(inverse_cdf)\n",
    "\n",
    "# inverse empirical cdf plot\n",
    "x = np.arange(0., 1., 0.001)\n",
    "y = v_inverse_cdf(cdf, x)\n",
    "plt.plot(x, y)\n",
    "plt.show()"
   ]
  },
  {
   "cell_type": "code",
   "execution_count": 14,
   "metadata": {
    "collapsed": false
   },
   "outputs": [
    {
     "data": {
      "text/plain": [
       "<pyvinecopulib.vinecop at 0x7ff65c349688>"
      ]
     },
     "execution_count": 14,
     "metadata": {},
     "output_type": "execute_result"
    }
   ],
   "source": [
    "# fit general vine copula\n",
    "pvcl.vinecop(emp.values)"
   ]
  },
  {
   "cell_type": "code",
   "execution_count": 15,
   "metadata": {
    "collapsed": false
   },
   "outputs": [],
   "source": [
    "# fit vine copula with controls\n",
    "fitted = pvcl.vinecop(4)\n",
    "\n",
    "fit_controls = pvcl.vinecop_fit_controls()\n",
    "fit_controls.family_set = [\n",
    "    pvcl.bicop_family.indep,\n",
    "    pvcl.bicop_family.gaussian,\n",
    "    pvcl.bicop_family.student,\n",
    "    pvcl.bicop_family.clayton,\n",
    "    pvcl.bicop_family.gumbel,\n",
    "    pvcl.bicop_family.frank,\n",
    "]\n",
    "fit_controls.truncation_level = 2\n",
    "\n",
    "fitted.select_all(emp.values, fit_controls)"
   ]
  },
  {
   "cell_type": "code",
   "execution_count": 16,
   "metadata": {
    "collapsed": false
   },
   "outputs": [
    {
     "name": "stdout",
     "output_type": "stream",
     "text": [
      "[[3 4 1 2]\n",
      " [3 1 4 0]\n",
      " [1 3 0 0]\n",
      " [1 0 0 0]]\n",
      "3\n",
      "gumbel\n",
      "[1.5542758286705793]\n",
      "180\n"
     ]
    }
   ],
   "source": [
    "# access vine copula attributes\n",
    "print(fitted.matrix)\n",
    "print(fitted.matrix[2,1])\n",
    "print(fitted.family(0,2))\n",
    "print(fitted.parameters(0,2))\n",
    "print(fitted.rotation(0,2))"
   ]
  },
  {
   "cell_type": "code",
   "execution_count": 32,
   "metadata": {
    "collapsed": false
   },
   "outputs": [
    {
     "data": {
      "text/html": [
       "<div>\n",
       "<table border=\"1\" class=\"dataframe\">\n",
       "  <thead>\n",
       "    <tr style=\"text-align: right;\">\n",
       "      <th></th>\n",
       "      <th>0</th>\n",
       "      <th>1</th>\n",
       "      <th>2</th>\n",
       "      <th>3</th>\n",
       "      <th>4</th>\n",
       "      <th>5</th>\n",
       "      <th>6</th>\n",
       "      <th>7</th>\n",
       "      <th>8</th>\n",
       "      <th>9</th>\n",
       "      <th>...</th>\n",
       "      <th>240</th>\n",
       "      <th>241</th>\n",
       "      <th>242</th>\n",
       "      <th>243</th>\n",
       "      <th>244</th>\n",
       "      <th>245</th>\n",
       "      <th>246</th>\n",
       "      <th>247</th>\n",
       "      <th>248</th>\n",
       "      <th>249</th>\n",
       "    </tr>\n",
       "  </thead>\n",
       "  <tbody>\n",
       "    <tr>\n",
       "      <th>AAPL</th>\n",
       "      <td>0.784063</td>\n",
       "      <td>0.978002</td>\n",
       "      <td>0.081686</td>\n",
       "      <td>0.731791</td>\n",
       "      <td>0.249046</td>\n",
       "      <td>0.467404</td>\n",
       "      <td>0.689228</td>\n",
       "      <td>0.583055</td>\n",
       "      <td>0.742392</td>\n",
       "      <td>0.103327</td>\n",
       "      <td>...</td>\n",
       "      <td>0.772851</td>\n",
       "      <td>0.669208</td>\n",
       "      <td>0.384781</td>\n",
       "      <td>0.524572</td>\n",
       "      <td>0.219688</td>\n",
       "      <td>0.010971</td>\n",
       "      <td>0.824188</td>\n",
       "      <td>0.370487</td>\n",
       "      <td>0.383032</td>\n",
       "      <td>0.663721</td>\n",
       "    </tr>\n",
       "    <tr>\n",
       "      <th>AMZN</th>\n",
       "      <td>0.648461</td>\n",
       "      <td>0.822437</td>\n",
       "      <td>0.028457</td>\n",
       "      <td>0.953623</td>\n",
       "      <td>0.123470</td>\n",
       "      <td>0.390730</td>\n",
       "      <td>0.420414</td>\n",
       "      <td>0.120189</td>\n",
       "      <td>0.964653</td>\n",
       "      <td>0.045177</td>\n",
       "      <td>...</td>\n",
       "      <td>0.918131</td>\n",
       "      <td>0.504771</td>\n",
       "      <td>0.182248</td>\n",
       "      <td>0.832318</td>\n",
       "      <td>0.270100</td>\n",
       "      <td>0.001761</td>\n",
       "      <td>0.913771</td>\n",
       "      <td>0.484228</td>\n",
       "      <td>0.686763</td>\n",
       "      <td>0.460603</td>\n",
       "    </tr>\n",
       "    <tr>\n",
       "      <th>GOOGL</th>\n",
       "      <td>0.896122</td>\n",
       "      <td>0.938539</td>\n",
       "      <td>0.037263</td>\n",
       "      <td>0.902648</td>\n",
       "      <td>0.052924</td>\n",
       "      <td>0.793023</td>\n",
       "      <td>0.622252</td>\n",
       "      <td>0.085481</td>\n",
       "      <td>0.851882</td>\n",
       "      <td>0.042209</td>\n",
       "      <td>...</td>\n",
       "      <td>0.821008</td>\n",
       "      <td>0.790257</td>\n",
       "      <td>0.469157</td>\n",
       "      <td>0.263358</td>\n",
       "      <td>0.293195</td>\n",
       "      <td>0.001636</td>\n",
       "      <td>0.894591</td>\n",
       "      <td>0.620137</td>\n",
       "      <td>0.698347</td>\n",
       "      <td>0.355425</td>\n",
       "    </tr>\n",
       "    <tr>\n",
       "      <th>IBM</th>\n",
       "      <td>0.760488</td>\n",
       "      <td>0.889618</td>\n",
       "      <td>0.738091</td>\n",
       "      <td>0.756237</td>\n",
       "      <td>0.981837</td>\n",
       "      <td>0.675930</td>\n",
       "      <td>0.403680</td>\n",
       "      <td>0.073865</td>\n",
       "      <td>0.927156</td>\n",
       "      <td>0.213356</td>\n",
       "      <td>...</td>\n",
       "      <td>0.617656</td>\n",
       "      <td>0.666914</td>\n",
       "      <td>0.045002</td>\n",
       "      <td>0.469929</td>\n",
       "      <td>0.430027</td>\n",
       "      <td>0.043547</td>\n",
       "      <td>0.938365</td>\n",
       "      <td>0.355734</td>\n",
       "      <td>0.280082</td>\n",
       "      <td>0.184549</td>\n",
       "    </tr>\n",
       "  </tbody>\n",
       "</table>\n",
       "<p>4 rows × 250 columns</p>\n",
       "</div>"
      ],
      "text/plain": [
       "            0         1         2         3         4         5         6    \\\n",
       "AAPL   0.784063  0.978002  0.081686  0.731791  0.249046  0.467404  0.689228   \n",
       "AMZN   0.648461  0.822437  0.028457  0.953623  0.123470  0.390730  0.420414   \n",
       "GOOGL  0.896122  0.938539  0.037263  0.902648  0.052924  0.793023  0.622252   \n",
       "IBM    0.760488  0.889618  0.738091  0.756237  0.981837  0.675930  0.403680   \n",
       "\n",
       "            7         8         9      ...          240       241       242  \\\n",
       "AAPL   0.583055  0.742392  0.103327    ...     0.772851  0.669208  0.384781   \n",
       "AMZN   0.120189  0.964653  0.045177    ...     0.918131  0.504771  0.182248   \n",
       "GOOGL  0.085481  0.851882  0.042209    ...     0.821008  0.790257  0.469157   \n",
       "IBM    0.073865  0.927156  0.213356    ...     0.617656  0.666914  0.045002   \n",
       "\n",
       "            243       244       245       246       247       248       249  \n",
       "AAPL   0.524572  0.219688  0.010971  0.824188  0.370487  0.383032  0.663721  \n",
       "AMZN   0.832318  0.270100  0.001761  0.913771  0.484228  0.686763  0.460603  \n",
       "GOOGL  0.263358  0.293195  0.001636  0.894591  0.620137  0.698347  0.355425  \n",
       "IBM    0.469929  0.430027  0.043547  0.938365  0.355734  0.280082  0.184549  \n",
       "\n",
       "[4 rows x 250 columns]"
      ]
     },
     "execution_count": 32,
     "metadata": {},
     "output_type": "execute_result"
    }
   ],
   "source": [
    "# simulate from vine copula\n",
    "num_draws = 250\n",
    "sim_unif = pd.DataFrame(fitted.simulate(num_draws), index=df.index.values)\n",
    "sim_unif"
   ]
  },
  {
   "cell_type": "code",
   "execution_count": 33,
   "metadata": {
    "collapsed": false
   },
   "outputs": [
    {
     "data": {
      "text/html": [
       "<div>\n",
       "<table border=\"1\" class=\"dataframe\">\n",
       "  <thead>\n",
       "    <tr style=\"text-align: right;\">\n",
       "      <th></th>\n",
       "      <th>0</th>\n",
       "      <th>1</th>\n",
       "      <th>2</th>\n",
       "      <th>3</th>\n",
       "      <th>4</th>\n",
       "      <th>5</th>\n",
       "      <th>6</th>\n",
       "      <th>7</th>\n",
       "      <th>8</th>\n",
       "      <th>9</th>\n",
       "      <th>...</th>\n",
       "      <th>240</th>\n",
       "      <th>241</th>\n",
       "      <th>242</th>\n",
       "      <th>243</th>\n",
       "      <th>244</th>\n",
       "      <th>245</th>\n",
       "      <th>246</th>\n",
       "      <th>247</th>\n",
       "      <th>248</th>\n",
       "      <th>249</th>\n",
       "    </tr>\n",
       "  </thead>\n",
       "  <tbody>\n",
       "    <tr>\n",
       "      <th>AAPL</th>\n",
       "      <td>0.009063</td>\n",
       "      <td>0.034331</td>\n",
       "      <td>-0.020339</td>\n",
       "      <td>0.007408</td>\n",
       "      <td>-0.006193</td>\n",
       "      <td>-0.000089</td>\n",
       "      <td>0.005836</td>\n",
       "      <td>0.002184</td>\n",
       "      <td>0.007623</td>\n",
       "      <td>-0.016769</td>\n",
       "      <td>...</td>\n",
       "      <td>0.008686</td>\n",
       "      <td>0.005494</td>\n",
       "      <td>-0.001585</td>\n",
       "      <td>0.001020</td>\n",
       "      <td>-0.007555</td>\n",
       "      <td>-0.048181</td>\n",
       "      <td>0.010754</td>\n",
       "      <td>-0.002163</td>\n",
       "      <td>-0.001594</td>\n",
       "      <td>0.005320</td>\n",
       "    </tr>\n",
       "    <tr>\n",
       "      <th>AMZN</th>\n",
       "      <td>0.005664</td>\n",
       "      <td>0.012551</td>\n",
       "      <td>-0.039195</td>\n",
       "      <td>0.026833</td>\n",
       "      <td>-0.015570</td>\n",
       "      <td>-0.003225</td>\n",
       "      <td>-0.001414</td>\n",
       "      <td>-0.015707</td>\n",
       "      <td>0.033122</td>\n",
       "      <td>-0.030691</td>\n",
       "      <td>...</td>\n",
       "      <td>0.021735</td>\n",
       "      <td>0.000965</td>\n",
       "      <td>-0.010276</td>\n",
       "      <td>0.013134</td>\n",
       "      <td>-0.006601</td>\n",
       "      <td>-0.086600</td>\n",
       "      <td>0.021144</td>\n",
       "      <td>0.000403</td>\n",
       "      <td>0.006793</td>\n",
       "      <td>0.000108</td>\n",
       "    </tr>\n",
       "    <tr>\n",
       "      <th>GOOGL</th>\n",
       "      <td>0.014322</td>\n",
       "      <td>0.016940</td>\n",
       "      <td>-0.025487</td>\n",
       "      <td>0.014639</td>\n",
       "      <td>-0.022979</td>\n",
       "      <td>0.009141</td>\n",
       "      <td>0.003180</td>\n",
       "      <td>-0.015583</td>\n",
       "      <td>0.012223</td>\n",
       "      <td>-0.024351</td>\n",
       "      <td>...</td>\n",
       "      <td>0.010002</td>\n",
       "      <td>0.009029</td>\n",
       "      <td>-0.000505</td>\n",
       "      <td>-0.004793</td>\n",
       "      <td>-0.003773</td>\n",
       "      <td>-0.063461</td>\n",
       "      <td>0.014206</td>\n",
       "      <td>0.003142</td>\n",
       "      <td>0.005770</td>\n",
       "      <td>-0.002676</td>\n",
       "    </tr>\n",
       "    <tr>\n",
       "      <th>IBM</th>\n",
       "      <td>0.007317</td>\n",
       "      <td>0.014580</td>\n",
       "      <td>0.006968</td>\n",
       "      <td>0.007162</td>\n",
       "      <td>0.026835</td>\n",
       "      <td>0.005223</td>\n",
       "      <td>-0.001580</td>\n",
       "      <td>-0.015463</td>\n",
       "      <td>0.016841</td>\n",
       "      <td>-0.006835</td>\n",
       "      <td>...</td>\n",
       "      <td>0.003739</td>\n",
       "      <td>0.005011</td>\n",
       "      <td>-0.019489</td>\n",
       "      <td>0.000212</td>\n",
       "      <td>-0.000738</td>\n",
       "      <td>-0.019697</td>\n",
       "      <td>0.017816</td>\n",
       "      <td>-0.002563</td>\n",
       "      <td>-0.004317</td>\n",
       "      <td>-0.007566</td>\n",
       "    </tr>\n",
       "  </tbody>\n",
       "</table>\n",
       "<p>4 rows × 250 columns</p>\n",
       "</div>"
      ],
      "text/plain": [
       "            0         1         2         3         4         5         6    \\\n",
       "AAPL   0.009063  0.034331 -0.020339  0.007408 -0.006193 -0.000089  0.005836   \n",
       "AMZN   0.005664  0.012551 -0.039195  0.026833 -0.015570 -0.003225 -0.001414   \n",
       "GOOGL  0.014322  0.016940 -0.025487  0.014639 -0.022979  0.009141  0.003180   \n",
       "IBM    0.007317  0.014580  0.006968  0.007162  0.026835  0.005223 -0.001580   \n",
       "\n",
       "            7         8         9      ...          240       241       242  \\\n",
       "AAPL   0.002184  0.007623 -0.016769    ...     0.008686  0.005494 -0.001585   \n",
       "AMZN  -0.015707  0.033122 -0.030691    ...     0.021735  0.000965 -0.010276   \n",
       "GOOGL -0.015583  0.012223 -0.024351    ...     0.010002  0.009029 -0.000505   \n",
       "IBM   -0.015463  0.016841 -0.006835    ...     0.003739  0.005011 -0.019489   \n",
       "\n",
       "            243       244       245       246       247       248       249  \n",
       "AAPL   0.001020 -0.007555 -0.048181  0.010754 -0.002163 -0.001594  0.005320  \n",
       "AMZN   0.013134 -0.006601 -0.086600  0.021144  0.000403  0.006793  0.000108  \n",
       "GOOGL -0.004793 -0.003773 -0.063461  0.014206  0.003142  0.005770 -0.002676  \n",
       "IBM    0.000212 -0.000738 -0.019697  0.017816 -0.002563 -0.004317 -0.007566  \n",
       "\n",
       "[4 rows x 250 columns]"
      ]
     },
     "execution_count": 33,
     "metadata": {},
     "output_type": "execute_result"
    }
   ],
   "source": [
    "# flip uniform marginals into returns\n",
    "sim_returns = sim_unif.copy()\n",
    "\n",
    "for i in range(len(df.index)):\n",
    "    cdf = interpolate.interp1d(returns.iloc[i,:], emp.iloc[i,:], fill_value=\"extrapolate\")\n",
    "    sim_returns_slice = v_inverse_cdf(cdf, sim_unif.iloc[i,:])\n",
    "    sim_returns.iloc[i,:] = sim_returns_slice\n",
    "\n",
    "sim_returns"
   ]
  },
  {
   "cell_type": "code",
   "execution_count": 34,
   "metadata": {
    "collapsed": false
   },
   "outputs": [
    {
     "data": {
      "image/png": "[encoded data removed]",
      "text/plain": [
       "<matplotlib.figure.Figure at 0x7ff65c30b748>"
      ]
     },
     "metadata": {},
     "output_type": "display_data"
    }
   ],
   "source": [
    "# flip simulated returns into underlying price paths\n",
    "cum_returns = np.cumsum(sim_returns, axis=1)\n",
    "temp = (cum_returns.transpose() + np.log(df.ix[:,-1])).transpose()\n",
    "price_paths = np.exp(temp)\n",
    "\n",
    "for i in range(4):\n",
    "    plt.plot(price_paths.ix[i,:])"
   ]
  },
  {
   "cell_type": "code",
   "execution_count": 35,
   "metadata": {
    "collapsed": false
   },
   "outputs": [
    {
     "data": {
      "image/png": "[encoded data removed]",
      "text/plain": [
       "<matplotlib.figure.Figure at 0x7ff65c15c4a8>"
      ]
     },
     "metadata": {},
     "output_type": "display_data"
    }
   ],
   "source": [
    "# compare with the original price path\n",
    "for i in range(4):\n",
    "    plt.plot(df.ix[i,:])"
   ]
  },
  {
   "cell_type": "code",
   "execution_count": null,
   "metadata": {
    "collapsed": true
   },
   "outputs": [],
   "source": []
  }
 ],
 "metadata": {
  "kernelspec": {
   "display_name": "Python 3",
   "language": "python",
   "name": "python3"
  },
  "language_info": {
   "codemirror_mode": {
    "name": "ipython",
    "version": 3
   },
   "file_extension": ".py",
   "mimetype": "text/x-python",
   "name": "python",
   "nbconvert_exporter": "python",
   "pygments_lexer": "ipython3",
   "version": "3.5.3"
  }
 },
 "nbformat": 4,
 "nbformat_minor": 2
}
