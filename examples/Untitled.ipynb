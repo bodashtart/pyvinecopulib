{
 "cells": [
  {
   "cell_type": "code",
   "execution_count": 1,
   "metadata": {
    "collapsed": true
   },
   "outputs": [],
   "source": [
    "import pyvinecopulib as pvcl"
   ]
  },
  {
   "cell_type": "code",
   "execution_count": 3,
   "metadata": {
    "collapsed": false
   },
   "outputs": [],
   "source": [
    "import numpy as np\n",
    "\n",
    "d = 3\n",
    "\n",
    "default_model = pvcl.vinecop(d)\n",
    "\n",
    "pair_copulas = pvcl.vinecop.make_pair_copula_store(d)\n",
    "\n",
    "par = np.array([[3.]])\n",
    "for tree in pair_copulas:\n",
    "    for idx in range(len(tree)):\n",
    "        tree[idx] = pvcl.bicop(pvcl.clayton, 270, par)\n",
    "\n",
    "mat = np.array([\n",
    "    [1, 1, 1],\n",
    "    [2, 2, 0],\n",
    "    [3, 0, 0]\n",
    "], dtype=np.uint64)\n",
    "\n",
    "custom_model = pvcl.vinecop(pair_copulas, mat)"
   ]
  },
  {
   "cell_type": "code",
   "execution_count": null,
   "metadata": {
    "collapsed": true
   },
   "outputs": [],
   "source": []
  }
 ],
 "metadata": {
  "kernelspec": {
   "display_name": "Python 3",
   "language": "python",
   "name": "python3"
  },
  "language_info": {
   "codemirror_mode": {
    "name": "ipython",
    "version": 3
   },
   "file_extension": ".py",
   "mimetype": "text/x-python",
   "name": "python",
   "nbconvert_exporter": "python",
   "pygments_lexer": "ipython3",
   "version": "3.5.3"
  }
 },
 "nbformat": 4,
 "nbformat_minor": 2
}
